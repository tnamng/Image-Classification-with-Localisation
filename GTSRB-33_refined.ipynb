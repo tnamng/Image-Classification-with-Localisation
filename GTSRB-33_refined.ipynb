{
 "cells": [
  {
   "cell_type": "markdown",
   "metadata": {
    "id": "H8harHIz8z4-"
   },
   "source": [
    "# Packages"
   ]
  },
  {
   "cell_type": "code",
   "execution_count": 1,
   "metadata": {
    "executionInfo": {
     "elapsed": 3426,
     "status": "ok",
     "timestamp": 1614807241453,
     "user": {
      "displayName": "Thanh Nam NGUYEN",
      "photoUrl": "",
      "userId": "03809949562924165279"
     },
     "user_tz": -60
    },
    "id": "tc3ucthobk58"
   },
   "outputs": [],
   "source": [
    "import numpy as np\n",
    "import pandas as pd\n",
    "import matplotlib.pyplot as plt\n",
    "import seaborn as sns\n",
    "%matplotlib inline\n",
    "\n",
    "\n",
    "import random\n",
    "\n",
    "### Các thư viện I/O, File\n",
    "import os\n",
    "import glob\n",
    "import shutil\n",
    "import zipfile\n",
    "### Các thư viện hình ảnh (bổ sung)\n",
    "from PIL import Image, ImageDraw\n",
    "import matplotlib.image as mpimg \n",
    "\n",
    "###################################################\n",
    "from sklearn.model_selection import train_test_split\n",
    "###################################################\n",
    "import tensorflow as tf\n",
    "from tensorflow.keras.preprocessing import image"
   ]
  },
  {
   "cell_type": "markdown",
   "metadata": {
    "id": "szv9ecfT9CB3"
   },
   "source": [
    "# Download data and EDA"
   ]
  },
  {
   "cell_type": "code",
   "execution_count": 2,
   "metadata": {
    "code_folding": [],
    "colab": {
     "base_uri": "https://localhost:8080/"
    },
    "executionInfo": {
     "elapsed": 22954,
     "status": "ok",
     "timestamp": 1614807260986,
     "user": {
      "displayName": "Thanh Nam NGUYEN",
      "photoUrl": "",
      "userId": "03809949562924165279"
     },
     "user_tz": -60
    },
    "id": "lc9zexsbXZEE",
    "outputId": "bc7ed7c5-6cf1-4027-be8c-53c65fc225d9"
   },
   "outputs": [
    {
     "name": "stdout",
     "output_type": "stream",
     "text": [
      "Downloading data from https://sid.erda.dk/public/archives/daaeac0d7ce1152aea9b61d9f1e19370/GTSRB_Final_Training_Images.zip\n",
      "276299776/276294756 [==============================] - 10s 0us/step\n"
     ]
    }
   ],
   "source": [
    "#####******FOR COLAB DOWLOAD DATASETS*****#########\n",
    "GTSRB_DATA_URL = \"https://sid.erda.dk/public/archives/daaeac0d7ce1152aea9b61d9f1e19370/GTSRB_Final_Training_Images.zip\"\n",
    "tf.keras.utils.get_file(\n",
    "    fname = 'GTSRB_Final_Training_Images.zip', \n",
    "    origin = GTSRB_DATA_URL, \n",
    "    cache_subdir='datasets', \n",
    "    extract=True\n",
    ")\n",
    "DOWNLOAD_PATH = \"/root/.keras/datasets/\"\n",
    "GTSRB_DATA_PATH = os.path.join(DOWNLOAD_PATH,  \"GTSRB/Final_Training/Images\")"
   ]
  },
  {
   "cell_type": "code",
   "execution_count": 3,
   "metadata": {
    "executionInfo": {
     "elapsed": 22955,
     "status": "ok",
     "timestamp": 1614807260989,
     "user": {
      "displayName": "Thanh Nam NGUYEN",
      "photoUrl": "",
      "userId": "03809949562924165279"
     },
     "user_tz": -60
    },
    "id": "1cwdsysI8z5I"
   },
   "outputs": [],
   "source": [
    "# DOWNLOAD_PATH = \"/Users/macintosh/Desktop\"\n",
    "# GTSRB_DATA_PATH = os.path.join(DOWNLOAD_PATH,  \"GTSRB/Final_Training/Images\")"
   ]
  },
  {
   "cell_type": "code",
   "execution_count": 4,
   "metadata": {
    "executionInfo": {
     "elapsed": 22953,
     "status": "ok",
     "timestamp": 1614807260989,
     "user": {
      "displayName": "Thanh Nam NGUYEN",
      "photoUrl": "",
      "userId": "03809949562924165279"
     },
     "user_tz": -60
    },
    "id": "CwdrC0lfQvO3"
   },
   "outputs": [],
   "source": [
    "N_CLASSES = 43\n",
    "RESIZED_HIGHT = RESIZED_WIDTH = 32\n",
    "RESIZED_IMAGE = (RESIZED_HIGHT, RESIZED_WIDTH)"
   ]
  },
  {
   "cell_type": "markdown",
   "metadata": {
    "id": "KNjkV1Cw8z5J"
   },
   "source": [
    "## Load and check all labes"
   ]
  },
  {
   "cell_type": "code",
   "execution_count": 5,
   "metadata": {
    "code_folding": [],
    "executionInfo": {
     "elapsed": 23188,
     "status": "ok",
     "timestamp": 1614807261226,
     "user": {
      "displayName": "Thanh Nam NGUYEN",
      "photoUrl": "",
      "userId": "03809949562924165279"
     },
     "user_tz": -60
    },
    "id": "n_5j1H098z5K"
   },
   "outputs": [],
   "source": [
    "def load_labels_from_one_directory(SOURCE, i):\n",
    "    dir_name = format(i, '05d')\n",
    "    dir_path = os.path.join(SOURCE, dir_name)\n",
    "    filename = 'GT-' + dir_name + '.csv'\n",
    "    file_path = os.path.join(dir_path, filename)\n",
    "    df = pd.read_csv(file_path, delimiter=\";\")\n",
    "    df['File_path'] = df['Filename'].map(lambda x: os.path.join(dir_path, x))\n",
    "    df.drop('Filename', axis = 1, inplace = True)\n",
    "    return df\n",
    "\n",
    "def load_all_labels(SOURCE):\n",
    "    list_label_df = []\n",
    "    for i in range(N_CLASSES):\n",
    "        df = load_labels_from_one_directory(SOURCE, i)\n",
    "        list_label_df.append(df)\n",
    "    return pd.concat(list_label_df, axis = 0, ignore_index=True)\n",
    "\n",
    "df = load_all_labels(GTSRB_DATA_PATH)"
   ]
  },
  {
   "cell_type": "code",
   "execution_count": 6,
   "metadata": {
    "colab": {
     "base_uri": "https://localhost:8080/",
     "height": 221
    },
    "executionInfo": {
     "elapsed": 23182,
     "status": "ok",
     "timestamp": 1614807261228,
     "user": {
      "displayName": "Thanh Nam NGUYEN",
      "photoUrl": "",
      "userId": "03809949562924165279"
     },
     "user_tz": -60
    },
    "id": "MYhSi6-B8z5K",
    "outputId": "dcd0399a-6dee-40c4-92ee-0a09b20e8d49"
   },
   "outputs": [
    {
     "data": {
      "text/html": [
       "<div>\n",
       "<style scoped>\n",
       "    .dataframe tbody tr th:only-of-type {\n",
       "        vertical-align: middle;\n",
       "    }\n",
       "\n",
       "    .dataframe tbody tr th {\n",
       "        vertical-align: top;\n",
       "    }\n",
       "\n",
       "    .dataframe thead th {\n",
       "        text-align: right;\n",
       "    }\n",
       "</style>\n",
       "<table border=\"1\" class=\"dataframe\">\n",
       "  <thead>\n",
       "    <tr style=\"text-align: right;\">\n",
       "      <th></th>\n",
       "      <th>Width</th>\n",
       "      <th>Height</th>\n",
       "      <th>Roi.X1</th>\n",
       "      <th>Roi.Y1</th>\n",
       "      <th>Roi.X2</th>\n",
       "      <th>Roi.Y2</th>\n",
       "      <th>ClassId</th>\n",
       "      <th>File_path</th>\n",
       "    </tr>\n",
       "  </thead>\n",
       "  <tbody>\n",
       "    <tr>\n",
       "      <th>0</th>\n",
       "      <td>29</td>\n",
       "      <td>30</td>\n",
       "      <td>5</td>\n",
       "      <td>6</td>\n",
       "      <td>24</td>\n",
       "      <td>25</td>\n",
       "      <td>0</td>\n",
       "      <td>/root/.keras/datasets/GTSRB/Final_Training/Ima...</td>\n",
       "    </tr>\n",
       "    <tr>\n",
       "      <th>1</th>\n",
       "      <td>30</td>\n",
       "      <td>30</td>\n",
       "      <td>5</td>\n",
       "      <td>5</td>\n",
       "      <td>25</td>\n",
       "      <td>25</td>\n",
       "      <td>0</td>\n",
       "      <td>/root/.keras/datasets/GTSRB/Final_Training/Ima...</td>\n",
       "    </tr>\n",
       "    <tr>\n",
       "      <th>2</th>\n",
       "      <td>30</td>\n",
       "      <td>30</td>\n",
       "      <td>5</td>\n",
       "      <td>5</td>\n",
       "      <td>25</td>\n",
       "      <td>25</td>\n",
       "      <td>0</td>\n",
       "      <td>/root/.keras/datasets/GTSRB/Final_Training/Ima...</td>\n",
       "    </tr>\n",
       "    <tr>\n",
       "      <th>3</th>\n",
       "      <td>31</td>\n",
       "      <td>31</td>\n",
       "      <td>5</td>\n",
       "      <td>5</td>\n",
       "      <td>26</td>\n",
       "      <td>26</td>\n",
       "      <td>0</td>\n",
       "      <td>/root/.keras/datasets/GTSRB/Final_Training/Ima...</td>\n",
       "    </tr>\n",
       "    <tr>\n",
       "      <th>4</th>\n",
       "      <td>30</td>\n",
       "      <td>32</td>\n",
       "      <td>5</td>\n",
       "      <td>6</td>\n",
       "      <td>25</td>\n",
       "      <td>26</td>\n",
       "      <td>0</td>\n",
       "      <td>/root/.keras/datasets/GTSRB/Final_Training/Ima...</td>\n",
       "    </tr>\n",
       "  </tbody>\n",
       "</table>\n",
       "</div>"
      ],
      "text/plain": [
       "   Width  Height  ...  ClassId                                          File_path\n",
       "0     29      30  ...        0  /root/.keras/datasets/GTSRB/Final_Training/Ima...\n",
       "1     30      30  ...        0  /root/.keras/datasets/GTSRB/Final_Training/Ima...\n",
       "2     30      30  ...        0  /root/.keras/datasets/GTSRB/Final_Training/Ima...\n",
       "3     31      31  ...        0  /root/.keras/datasets/GTSRB/Final_Training/Ima...\n",
       "4     30      32  ...        0  /root/.keras/datasets/GTSRB/Final_Training/Ima...\n",
       "\n",
       "[5 rows x 8 columns]"
      ]
     },
     "execution_count": 6,
     "metadata": {
      "tags": []
     },
     "output_type": "execute_result"
    }
   ],
   "source": [
    "df.head()"
   ]
  },
  {
   "cell_type": "code",
   "execution_count": 7,
   "metadata": {
    "colab": {
     "base_uri": "https://localhost:8080/"
    },
    "executionInfo": {
     "elapsed": 23179,
     "status": "ok",
     "timestamp": 1614807261229,
     "user": {
      "displayName": "Thanh Nam NGUYEN",
      "photoUrl": "",
      "userId": "03809949562924165279"
     },
     "user_tz": -60
    },
    "id": "gCHqyh85AbgF",
    "outputId": "67b7b22e-1cfd-4996-d0f6-257b117433ca"
   },
   "outputs": [
    {
     "name": "stdout",
     "output_type": "stream",
     "text": [
      "<class 'pandas.core.frame.DataFrame'>\n",
      "RangeIndex: 39209 entries, 0 to 39208\n",
      "Data columns (total 8 columns):\n",
      " #   Column     Non-Null Count  Dtype \n",
      "---  ------     --------------  ----- \n",
      " 0   Width      39209 non-null  int64 \n",
      " 1   Height     39209 non-null  int64 \n",
      " 2   Roi.X1     39209 non-null  int64 \n",
      " 3   Roi.Y1     39209 non-null  int64 \n",
      " 4   Roi.X2     39209 non-null  int64 \n",
      " 5   Roi.Y2     39209 non-null  int64 \n",
      " 6   ClassId    39209 non-null  int64 \n",
      " 7   File_path  39209 non-null  object\n",
      "dtypes: int64(7), object(1)\n",
      "memory usage: 2.4+ MB\n"
     ]
    }
   ],
   "source": [
    "df.info()"
   ]
  },
  {
   "cell_type": "code",
   "execution_count": 8,
   "metadata": {
    "colab": {
     "base_uri": "https://localhost:8080/",
     "height": 313
    },
    "executionInfo": {
     "elapsed": 23173,
     "status": "ok",
     "timestamp": 1614807261229,
     "user": {
      "displayName": "Thanh Nam NGUYEN",
      "photoUrl": "",
      "userId": "03809949562924165279"
     },
     "user_tz": -60
    },
    "id": "47ARHiXSAbgG",
    "outputId": "e4e77299-48b2-4a58-a208-e9fa790a5b30"
   },
   "outputs": [
    {
     "data": {
      "text/html": [
       "<div>\n",
       "<style scoped>\n",
       "    .dataframe tbody tr th:only-of-type {\n",
       "        vertical-align: middle;\n",
       "    }\n",
       "\n",
       "    .dataframe tbody tr th {\n",
       "        vertical-align: top;\n",
       "    }\n",
       "\n",
       "    .dataframe thead th {\n",
       "        text-align: right;\n",
       "    }\n",
       "</style>\n",
       "<table border=\"1\" class=\"dataframe\">\n",
       "  <thead>\n",
       "    <tr style=\"text-align: right;\">\n",
       "      <th></th>\n",
       "      <th>Width</th>\n",
       "      <th>Height</th>\n",
       "      <th>Roi.X1</th>\n",
       "      <th>Roi.Y1</th>\n",
       "      <th>Roi.X2</th>\n",
       "      <th>Roi.Y2</th>\n",
       "      <th>ClassId</th>\n",
       "    </tr>\n",
       "  </thead>\n",
       "  <tbody>\n",
       "    <tr>\n",
       "      <th>count</th>\n",
       "      <td>39209.000000</td>\n",
       "      <td>39209.000000</td>\n",
       "      <td>39209.000000</td>\n",
       "      <td>39209.000000</td>\n",
       "      <td>39209.000000</td>\n",
       "      <td>39209.000000</td>\n",
       "      <td>39209.000000</td>\n",
       "    </tr>\n",
       "    <tr>\n",
       "      <th>mean</th>\n",
       "      <td>50.835880</td>\n",
       "      <td>50.328930</td>\n",
       "      <td>5.999515</td>\n",
       "      <td>5.962381</td>\n",
       "      <td>45.197302</td>\n",
       "      <td>44.728379</td>\n",
       "      <td>15.788390</td>\n",
       "    </tr>\n",
       "    <tr>\n",
       "      <th>std</th>\n",
       "      <td>24.306933</td>\n",
       "      <td>23.115423</td>\n",
       "      <td>1.475493</td>\n",
       "      <td>1.385440</td>\n",
       "      <td>23.060157</td>\n",
       "      <td>21.971145</td>\n",
       "      <td>12.013238</td>\n",
       "    </tr>\n",
       "    <tr>\n",
       "      <th>min</th>\n",
       "      <td>25.000000</td>\n",
       "      <td>25.000000</td>\n",
       "      <td>0.000000</td>\n",
       "      <td>5.000000</td>\n",
       "      <td>20.000000</td>\n",
       "      <td>20.000000</td>\n",
       "      <td>0.000000</td>\n",
       "    </tr>\n",
       "    <tr>\n",
       "      <th>25%</th>\n",
       "      <td>35.000000</td>\n",
       "      <td>35.000000</td>\n",
       "      <td>5.000000</td>\n",
       "      <td>5.000000</td>\n",
       "      <td>29.000000</td>\n",
       "      <td>30.000000</td>\n",
       "      <td>5.000000</td>\n",
       "    </tr>\n",
       "    <tr>\n",
       "      <th>50%</th>\n",
       "      <td>43.000000</td>\n",
       "      <td>43.000000</td>\n",
       "      <td>6.000000</td>\n",
       "      <td>6.000000</td>\n",
       "      <td>38.000000</td>\n",
       "      <td>38.000000</td>\n",
       "      <td>12.000000</td>\n",
       "    </tr>\n",
       "    <tr>\n",
       "      <th>75%</th>\n",
       "      <td>58.000000</td>\n",
       "      <td>58.000000</td>\n",
       "      <td>6.000000</td>\n",
       "      <td>6.000000</td>\n",
       "      <td>53.000000</td>\n",
       "      <td>52.000000</td>\n",
       "      <td>25.000000</td>\n",
       "    </tr>\n",
       "    <tr>\n",
       "      <th>max</th>\n",
       "      <td>243.000000</td>\n",
       "      <td>225.000000</td>\n",
       "      <td>20.000000</td>\n",
       "      <td>20.000000</td>\n",
       "      <td>223.000000</td>\n",
       "      <td>205.000000</td>\n",
       "      <td>42.000000</td>\n",
       "    </tr>\n",
       "  </tbody>\n",
       "</table>\n",
       "</div>"
      ],
      "text/plain": [
       "              Width        Height  ...        Roi.Y2       ClassId\n",
       "count  39209.000000  39209.000000  ...  39209.000000  39209.000000\n",
       "mean      50.835880     50.328930  ...     44.728379     15.788390\n",
       "std       24.306933     23.115423  ...     21.971145     12.013238\n",
       "min       25.000000     25.000000  ...     20.000000      0.000000\n",
       "25%       35.000000     35.000000  ...     30.000000      5.000000\n",
       "50%       43.000000     43.000000  ...     38.000000     12.000000\n",
       "75%       58.000000     58.000000  ...     52.000000     25.000000\n",
       "max      243.000000    225.000000  ...    205.000000     42.000000\n",
       "\n",
       "[8 rows x 7 columns]"
      ]
     },
     "execution_count": 8,
     "metadata": {
      "tags": []
     },
     "output_type": "execute_result"
    }
   ],
   "source": [
    "df.describe()"
   ]
  },
  {
   "cell_type": "code",
   "execution_count": 9,
   "metadata": {
    "colab": {
     "base_uri": "https://localhost:8080/",
     "height": 383
    },
    "executionInfo": {
     "elapsed": 23721,
     "status": "ok",
     "timestamp": 1614807261782,
     "user": {
      "displayName": "Thanh Nam NGUYEN",
      "photoUrl": "",
      "userId": "03809949562924165279"
     },
     "user_tz": -60
    },
    "id": "rO5QCIb5AbgG",
    "outputId": "9f3ed925-e9ea-4884-9908-7332bf04f6e3"
   },
   "outputs": [
    {
     "data": {
      "image/png": "[encoded data removed]",
      "text/plain": [
       "<Figure size 360x360 with 1 Axes>"
      ]
     },
     "metadata": {
      "needs_background": "light",
      "tags": []
     },
     "output_type": "display_data"
    }
   ],
   "source": [
    "sns.catplot(x = 'ClassId', data = df, kind = 'count');"
   ]
  },
  {
   "cell_type": "code",
   "execution_count": 10,
   "metadata": {
    "colab": {
     "base_uri": "https://localhost:8080/",
     "height": 400
    },
    "executionInfo": {
     "elapsed": 27391,
     "status": "ok",
     "timestamp": 1614807265457,
     "user": {
      "displayName": "Thanh Nam NGUYEN",
      "photoUrl": "",
      "userId": "03809949562924165279"
     },
     "user_tz": -60
    },
    "id": "WjyOpD5I8z5L",
    "outputId": "7c6355dd-e610-4ced-8fd7-9eb82df6e18e"
   },
   "outputs": [
    {
     "data": {
      "text/plain": [
       "<seaborn.axisgrid.FacetGrid at 0x7f4c2762ef90>"
      ]
     },
     "execution_count": 10,
     "metadata": {
      "tags": []
     },
     "output_type": "execute_result"
    },
    {
     "data": {
      "image/png": "[encoded data removed]",
      "text/plain": [
       "<Figure size 408.75x360 with 1 Axes>"
      ]
     },
     "metadata": {
      "needs_background": "light",
      "tags": []
     },
     "output_type": "display_data"
    }
   ],
   "source": [
    "sns.relplot(x = 'Width', y = 'Height', data = df, hue = 'ClassId')"
   ]
  },
  {
   "cell_type": "code",
   "execution_count": 11,
   "metadata": {
    "colab": {
     "base_uri": "https://localhost:8080/",
     "height": 386
    },
    "executionInfo": {
     "elapsed": 27756,
     "status": "ok",
     "timestamp": 1614807265827,
     "user": {
      "displayName": "Thanh Nam NGUYEN",
      "photoUrl": "",
      "userId": "03809949562924165279"
     },
     "user_tz": -60
    },
    "id": "4LLa4Pb1AbgI",
    "outputId": "996b5ff7-bfae-4e83-d897-46cb0e8477d3"
   },
   "outputs": [
    {
     "data": {
      "text/plain": [
       "<seaborn.axisgrid.FacetGrid at 0x7f4c27666810>"
      ]
     },
     "execution_count": 11,
     "metadata": {
      "tags": []
     },
     "output_type": "execute_result"
    },
    {
     "data": {
      "image/png": "[encoded data removed]",
      "text/plain": [
       "<Figure size 360x360 with 1 Axes>"
      ]
     },
     "metadata": {
      "needs_background": "light",
      "tags": []
     },
     "output_type": "display_data"
    }
   ],
   "source": [
    "sns.displot( x = \"Width\", data = df, kind=\"hist\")"
   ]
  },
  {
   "cell_type": "code",
   "execution_count": 12,
   "metadata": {
    "colab": {
     "base_uri": "https://localhost:8080/",
     "height": 386
    },
    "executionInfo": {
     "elapsed": 29891,
     "status": "ok",
     "timestamp": 1614807267968,
     "user": {
      "displayName": "Thanh Nam NGUYEN",
      "photoUrl": "",
      "userId": "03809949562924165279"
     },
     "user_tz": -60
    },
    "id": "btSUVKtIAbgJ",
    "outputId": "623831b5-d4d4-4332-fb92-a9bc400907fd"
   },
   "outputs": [
    {
     "data": {
      "text/plain": [
       "<seaborn.axisgrid.FacetGrid at 0x7f4c1c3f4450>"
      ]
     },
     "execution_count": 12,
     "metadata": {
      "tags": []
     },
     "output_type": "execute_result"
    },
    {
     "data": {
      "image/png": "[encoded data removed]",
      "text/plain": [
       "<Figure size 360x360 with 1 Axes>"
      ]
     },
     "metadata": {
      "needs_background": "light",
      "tags": []
     },
     "output_type": "display_data"
    }
   ],
   "source": [
    "sns.displot( x = \"Height\", data = df, kind=\"hist\")"
   ]
  },
  {
   "cell_type": "code",
   "execution_count": 13,
   "metadata": {
    "colab": {
     "base_uri": "https://localhost:8080/"
    },
    "executionInfo": {
     "elapsed": 29888,
     "status": "ok",
     "timestamp": 1614807267969,
     "user": {
      "displayName": "Thanh Nam NGUYEN",
      "photoUrl": "",
      "userId": "03809949562924165279"
     },
     "user_tz": -60
    },
    "id": "leSVj2n4AbgK",
    "outputId": "931ab477-1531-4950-ac93-6a990ef6629c"
   },
   "outputs": [
    {
     "name": "stdout",
     "output_type": "stream",
     "text": [
      "All boxes fit  their correpoding img size\n"
     ]
    }
   ],
   "source": [
    "# To check the relation between the boxes and the correpoding img size\n",
    "check_number = min((df['Height'] - df['Roi.Y1']).min(),  \n",
    "                       (df['Roi.Y2'] - df['Roi.Y1']).min(),\n",
    "                       (df[\"Width\"] - df['Roi.X1']).min(),\n",
    "                       (df['Roi.X2'] - df['Roi.X1']).min())\n",
    "    \n",
    "if check_number>=0:\n",
    "    print(\"All boxes fit  their correpoding img size\") \n",
    "else:\n",
    "    print(\"Have a probem between boxes and img size\") "
   ]
  },
  {
   "cell_type": "markdown",
   "metadata": {
    "id": "XRcYjUS_AbgK"
   },
   "source": [
    "## View some images with their class and box (randomly)"
   ]
  },
  {
   "cell_type": "code",
   "execution_count": 14,
   "metadata": {
    "code_folding": [],
    "executionInfo": {
     "elapsed": 29887,
     "status": "ok",
     "timestamp": 1614807267970,
     "user": {
      "displayName": "Thanh Nam NGUYEN",
      "photoUrl": "",
      "userId": "03809949562924165279"
     },
     "user_tz": -60
    },
    "id": "9Sjw-kup8z5M"
   },
   "outputs": [],
   "source": [
    "def show_an_image_with_box(df, j):  \n",
    "    img_path = df.loc[j][\"File_path\"]\n",
    "    with Image.open(img_path) as img:\n",
    "        box = list(df.loc[j][\"Roi.X1\":\"Roi.Y2\"])\n",
    "        draw = ImageDraw.Draw(img)\n",
    "        draw.rectangle(box, outline=\"green\", width=1)\n",
    "        plt.title('class: ' + str(df.loc[j]['ClassId']))\n",
    "        plt.imshow(img)"
   ]
  },
  {
   "cell_type": "code",
   "execution_count": 15,
   "metadata": {
    "colab": {
     "base_uri": "https://localhost:8080/",
     "height": 54
    },
    "executionInfo": {
     "elapsed": 33895,
     "status": "ok",
     "timestamp": 1614807271984,
     "user": {
      "displayName": "Thanh Nam NGUYEN",
      "photoUrl": "",
      "userId": "03809949562924165279"
     },
     "user_tz": -60
    },
    "id": "b8pp-Zta8z5M",
    "outputId": "52bee16f-40ea-4f0d-8838-b1f9ef804334"
   },
   "outputs": [
    {
     "data": {
      "image/png": "[encoded data removed]",
      "text/plain": [
       "<Figure size 1008x1440 with 3 Axes>"
      ]
     },
     "metadata": {
      "needs_background": "light",
      "tags": []
     },
     "output_type": "display_data"
    }
   ],
   "source": [
    "all_img_paths = df[\"File_path\"]\n",
    "all_idxs = df.index\n",
    "#choose some random number\n",
    "nrows = 1 \n",
    "ncols = 3\n",
    "rand_Ids=np.random.choice(all_idxs,nrows*ncols)\n",
    "\n",
    "len(all_idxs)\n",
    "\n",
    "fig = plt.gcf() \n",
    "fig.set_size_inches(14,20)\n",
    "for i, id_ in enumerate(rand_Ids):\n",
    "    plt.subplot(nrows, ncols, i+1) \n",
    "    show_an_image_with_box(df, id_)"
   ]
  },
  {
   "cell_type": "markdown",
   "metadata": {
    "id": "xce9-9cA8z5N"
   },
   "source": [
    "## Load all images in the resized shape"
   ]
  },
  {
   "cell_type": "code",
   "execution_count": 16,
   "metadata": {
    "executionInfo": {
     "elapsed": 34077,
     "status": "ok",
     "timestamp": 1614807272168,
     "user": {
      "displayName": "Thanh Nam NGUYEN",
      "photoUrl": "",
      "userId": "03809949562924165279"
     },
     "user_tz": -60
    },
    "id": "iXfrEil98z5N"
   },
   "outputs": [],
   "source": [
    "def load_all_images(img_paths = []):\n",
    "    list_img = []\n",
    "    for img_path in img_paths:\n",
    "        #with Image.open(img_path) as img      \n",
    "        img = tf.keras.preprocessing.image.load_img(img_path, target_size = RESIZED_IMAGE)# Problem: do not close the file\n",
    "        img = tf.keras.preprocessing.image.img_to_array(img)\n",
    "        list_img.append(img)\n",
    "    return  np.array(list_img)\n",
    "img_paths = list(df[\"File_path\"])\n",
    "imgs = load_all_images(img_paths)"
   ]
  },
  {
   "cell_type": "code",
   "execution_count": 17,
   "metadata": {
    "code_folding": [
     0
    ],
    "executionInfo": {
     "elapsed": 34075,
     "status": "ok",
     "timestamp": 1614807272168,
     "user": {
      "displayName": "Thanh Nam NGUYEN",
      "photoUrl": "",
      "userId": "03809949562924165279"
     },
     "user_tz": -60
    },
    "id": "asnG3acm8z5O"
   },
   "outputs": [],
   "source": [
    "# def update_box():\n",
    "#     df['resized_Roi.X1']  =  df['Roi.X1'] * RESIZED_WIDTH / df['Width']\n",
    "#     df['resized_Roi.X2']  =  df['Roi.X2'] * RESIZED_WIDTH / df['Width']\n",
    "#     df['resized_Roi.Y1']  =  df['Roi.Y1'] * RESIZED_HIGHT / df['Height']\n",
    "#     df['resized_Roi.X2']  =  df['Roi.Y2'] * RESIZED_HIGHT / df['Height']\n",
    "# update_box()"
   ]
  },
  {
   "cell_type": "code",
   "execution_count": 18,
   "metadata": {
    "executionInfo": {
     "elapsed": 34073,
     "status": "ok",
     "timestamp": 1614807272169,
     "user": {
      "displayName": "Thanh Nam NGUYEN",
      "photoUrl": "",
      "userId": "03809949562924165279"
     },
     "user_tz": -60
    },
    "id": "pb0S3ilg8z5P"
   },
   "outputs": [],
   "source": [
    "def add_rate_coordinates_box():\n",
    "    \"\"\"Using for the target\"\"\"\n",
    "    df['rate_y_min'] = df['Roi.Y1'] /df.Height\n",
    "    df['rate_x_min'] = df['Roi.X1'] /df.Width\n",
    "    df['rate_y_max'] = df['Roi.Y2'] /df.Height\n",
    "    df['rate_x_max'] = df['Roi.X2'] /df.Width\n",
    "add_rate_coordinates_box()"
   ]
  },
  {
   "cell_type": "code",
   "execution_count": 19,
   "metadata": {
    "executionInfo": {
     "elapsed": 34072,
     "status": "ok",
     "timestamp": 1614807272170,
     "user": {
      "displayName": "Thanh Nam NGUYEN",
      "photoUrl": "",
      "userId": "03809949562924165279"
     },
     "user_tz": -60
    },
    "id": "r9tufwKs8z5P"
   },
   "outputs": [],
   "source": [
    "def plot_image_with_box(img, box):\n",
    "    \"\"\"by using tf\"\"\"\n",
    "    colors = np.array([[255,0,0]]) #red colors\n",
    "    #img_arr = np.asarray(resized_img)\n",
    "    img_arr = np.expand_dims(img, axis =0)\n",
    "    \n",
    "    box = box.reshape([1, 1, 4])\n",
    "    \n",
    "    new_img = tf.image.draw_bounding_boxes(img_arr, box, colors)\n",
    "    plt.imshow(new_img[0]/255.0)\n",
    "    plt.title('Resized image with box')\n",
    "    plt.show()"
   ]
  },
  {
   "cell_type": "code",
   "execution_count": 20,
   "metadata": {
    "colab": {
     "base_uri": "https://localhost:8080/",
     "height": 71
    },
    "executionInfo": {
     "elapsed": 39219,
     "status": "ok",
     "timestamp": 1614807277323,
     "user": {
      "displayName": "Thanh Nam NGUYEN",
      "photoUrl": "",
      "userId": "03809949562924165279"
     },
     "user_tz": -60
    },
    "id": "6Z0sPCsz8z5S",
    "outputId": "fe54e943-a996-4542-a4ae-36c0b96b9930",
    "scrolled": true
   },
   "outputs": [
    {
     "name": "stdout",
     "output_type": "stream",
     "text": [
      "Randonm index =  36523\n"
     ]
    },
    {
     "data": {
      "image/png": "[encoded data removed]",
      "text/plain": [
       "<Figure size 432x288 with 2 Axes>"
      ]
     },
     "metadata": {
      "needs_background": "light",
      "tags": []
     },
     "output_type": "display_data"
    }
   ],
   "source": [
    "# show image before and after resize\n",
    "all_idxs = df.index\n",
    "rand_Id=np.random.choice(all_idxs)\n",
    "print('Randonm index = ', rand_Id)\n",
    "\n",
    "\n",
    "fig = plt.figure()\n",
    "plt.subplot(1, 2, 1) \n",
    "show_an_image_with_box(df, rand_Id)\n",
    "plt.subplot(1, 2, 2)\n",
    "box = np.array(df.loc[rand_Id]['rate_y_min':'rate_x_max'])\n",
    "plot_image_with_box(imgs[rand_Id], box)"
   ]
  },
  {
   "cell_type": "markdown",
   "metadata": {
    "id": "vh7aqFmY_MZD"
   },
   "source": [
    "# Creat train and test sets"
   ]
  },
  {
   "cell_type": "markdown",
   "metadata": {
    "id": "HRzfVDXeAbgR"
   },
   "source": [
    "## Train/Split data and Transformation function"
   ]
  },
  {
   "cell_type": "code",
   "execution_count": 62,
   "metadata": {
    "executionInfo": {
     "elapsed": 564,
     "status": "ok",
     "timestamp": 1614809616015,
     "user": {
      "displayName": "Thanh Nam NGUYEN",
      "photoUrl": "",
      "userId": "03809949562924165279"
     },
     "user_tz": -60
    },
    "id": "2bcKNL3DKiZc"
   },
   "outputs": [],
   "source": [
    "#Creat split data\n",
    "from sklearn.model_selection import train_test_split\n",
    "\n",
    "y = df[[\"ClassId\"]].values\n",
    "id_train, id_test, y_train, y_test = train_test_split(range(df.shape[0]), y, shuffle = True,\n",
    "                                                            stratify = y, \n",
    "                                                      train_size = 0.8, random_state = 42)\n",
    "X_train = imgs[id_train]\n",
    "X_test = imgs[id_test] \n",
    "\n",
    "target_boxes_train = df.loc[id_train, 'rate_y_min':'rate_x_max'].values\n",
    "target_boxes_test = df.loc[id_test,'rate_y_min':'rate_x_max'].values"
   ]
  },
  {
   "cell_type": "code",
   "execution_count": 63,
   "metadata": {
    "colab": {
     "base_uri": "https://localhost:8080/"
    },
    "executionInfo": {
     "elapsed": 731,
     "status": "ok",
     "timestamp": 1614809616192,
     "user": {
      "displayName": "Thanh Nam NGUYEN",
      "photoUrl": "",
      "userId": "03809949562924165279"
     },
     "user_tz": -60
    },
    "id": "9imLEQcYUia-",
    "outputId": "a7bd1b76-ff82-4412-a34a-a62a2963bc70"
   },
   "outputs": [
    {
     "data": {
      "text/plain": [
       "((31367, 32, 32, 3), (7842, 32, 32, 3), (31367, 1), (7842, 1))"
      ]
     },
     "execution_count": 63,
     "metadata": {
      "tags": []
     },
     "output_type": "execute_result"
    }
   ],
   "source": [
    "X_train.shape, X_test.shape, y_train.shape,  y_test.shape"
   ]
  },
  {
   "cell_type": "code",
   "execution_count": 64,
   "metadata": {
    "colab": {
     "base_uri": "https://localhost:8080/"
    },
    "executionInfo": {
     "elapsed": 724,
     "status": "ok",
     "timestamp": 1614809616193,
     "user": {
      "displayName": "Thanh Nam NGUYEN",
      "photoUrl": "",
      "userId": "03809949562924165279"
     },
     "user_tz": -60
    },
    "id": "-pBAd-wJAbgS",
    "outputId": "8fb93caf-a675-41e2-827d-1b15d0174bfa"
   },
   "outputs": [
    {
     "data": {
      "text/plain": [
       "((31367, 4), (7842, 4))"
      ]
     },
     "execution_count": 64,
     "metadata": {
      "tags": []
     },
     "output_type": "execute_result"
    }
   ],
   "source": [
    "target_boxes_train.shape, target_boxes_test.shape"
   ]
  },
  {
   "cell_type": "code",
   "execution_count": 65,
   "metadata": {
    "executionInfo": {
     "elapsed": 717,
     "status": "ok",
     "timestamp": 1614809616194,
     "user": {
      "displayName": "Thanh Nam NGUYEN",
      "photoUrl": "",
      "userId": "03809949562924165279"
     },
     "user_tz": -60
    },
    "id": "5z0KnFuOAbgT"
   },
   "outputs": [],
   "source": [
    "#TRANSFORMATION FUNCTION\n",
    "def transform(img, b, c, is_training = True):\n",
    "    #a = tf.cast(a/255, tf.float32)\n",
    "    #b = tf.cast(b, tf.float32)\n",
    "    #c = tf.cast(c, tf.float32)\n",
    "    rand = tf.random.uniform([1])\n",
    "    if is_training and (rand >0.5):\n",
    "        img = tf.image.random_brightness(img, max_delta = 0.95)\n",
    "    return img/255, (b, c)"
   ]
  },
  {
   "cell_type": "markdown",
   "metadata": {
    "id": "svGuTuNhAbgU"
   },
   "source": [
    "## Make  a tf.data Data with transformation"
   ]
  },
  {
   "cell_type": "code",
   "execution_count": 66,
   "metadata": {
    "executionInfo": {
     "elapsed": 368,
     "status": "ok",
     "timestamp": 1614809618191,
     "user": {
      "displayName": "Thanh Nam NGUYEN",
      "photoUrl": "",
      "userId": "03809949562924165279"
     },
     "user_tz": -60
    },
    "id": "vl-fAhZZ-tZM"
   },
   "outputs": [],
   "source": [
    "AUTOTUNE = tf.data.experimental.AUTOTUNE  #Version 2.0\n",
    "##AUTOTUNE = tf.data.AUTOTUNE  #Version 2.xx\n",
    "\n",
    "def creat_dataset(X, y, target_boxes, batch_size, is_training = True):  #batch_size,\n",
    "    ds = tf.data.Dataset.from_tensor_slices((X, y, target_boxes))  # Tạo một LIST các cặp X_i, y_i\n",
    "    ds = ds.map(lambda a, b, c: transform(a, b, c, is_training))  #, num_parallel_calls = AUTOTUNE\n",
    "    #dataset.map(time_consuming_mapping).cache().map(memory_consuming_mapping)\n",
    "    if is_training:\n",
    "        m = target_boxes.shape[0]\n",
    "        shuffle_buffer = m              \n",
    "        ds = ds.shuffle(shuffle_buffer)\n",
    "    #ds = ds.repeat() # Mandatory for Keras for now\n",
    "    ds = ds.batch(batch_size, drop_remainder = True).prefetch(1)   # Thêm chiều cho trục axis = 0 cho list bên trên \n",
    "    return ds"
   ]
  },
  {
   "cell_type": "code",
   "execution_count": 67,
   "metadata": {
    "executionInfo": {
     "elapsed": 757,
     "status": "ok",
     "timestamp": 1614809618588,
     "user": {
      "displayName": "Thanh Nam NGUYEN",
      "photoUrl": "",
      "userId": "03809949562924165279"
     },
     "user_tz": -60
    },
    "id": "dEHqmtkPAbgU"
   },
   "outputs": [],
   "source": [
    "BATCH_SIZE = 64\n",
    "ds_train = creat_dataset(X_train, y_train, target_boxes_train, BATCH_SIZE)\n",
    "ds_test = creat_dataset(X_test, y_test, target_boxes_test, BATCH_SIZE//2, is_training = False)"
   ]
  },
  {
   "cell_type": "code",
   "execution_count": 68,
   "metadata": {
    "colab": {
     "base_uri": "https://localhost:8080/"
    },
    "executionInfo": {
     "elapsed": 749,
     "status": "ok",
     "timestamp": 1614809618590,
     "user": {
      "displayName": "Thanh Nam NGUYEN",
      "photoUrl": "",
      "userId": "03809949562924165279"
     },
     "user_tz": -60
    },
    "id": "m6F38KSuAbgV",
    "outputId": "65544570-73bf-47e9-a7f8-3ec8afbaa089"
   },
   "outputs": [
    {
     "data": {
      "text/plain": [
       "(TensorSpec(shape=(64, 32, 32, 3), dtype=tf.float32, name=None),\n",
       " (TensorSpec(shape=(64, 1), dtype=tf.int64, name=None),\n",
       "  TensorSpec(shape=(64, 4), dtype=tf.float64, name=None)))"
      ]
     },
     "execution_count": 68,
     "metadata": {
      "tags": []
     },
     "output_type": "execute_result"
    }
   ],
   "source": [
    "ds_train.element_spec"
   ]
  },
  {
   "cell_type": "code",
   "execution_count": 69,
   "metadata": {
    "colab": {
     "base_uri": "https://localhost:8080/"
    },
    "executionInfo": {
     "elapsed": 742,
     "status": "ok",
     "timestamp": 1614809618591,
     "user": {
      "displayName": "Thanh Nam NGUYEN",
      "photoUrl": "",
      "userId": "03809949562924165279"
     },
     "user_tz": -60
    },
    "id": "GQOmosQCAbgV",
    "outputId": "e36b5299-087e-41dd-99c3-83e92b01d60d"
   },
   "outputs": [
    {
     "data": {
      "text/plain": [
       "(TensorSpec(shape=(64, 32, 32, 3), dtype=tf.float32, name=None),\n",
       " (TensorSpec(shape=(64, 1), dtype=tf.int64, name=None),\n",
       "  TensorSpec(shape=(64, 4), dtype=tf.float64, name=None)))"
      ]
     },
     "execution_count": 69,
     "metadata": {
      "tags": []
     },
     "output_type": "execute_result"
    }
   ],
   "source": [
    "ds_train.element_spec"
   ]
  },
  {
   "cell_type": "code",
   "execution_count": 70,
   "metadata": {
    "executionInfo": {
     "elapsed": 736,
     "status": "ok",
     "timestamp": 1614809618592,
     "user": {
      "displayName": "Thanh Nam NGUYEN",
      "photoUrl": "",
      "userId": "03809949562924165279"
     },
     "user_tz": -60
    },
    "id": "_nMPoUDiRrLM"
   },
   "outputs": [],
   "source": [
    "# import multiprocessing\n",
    "# cores = multiprocessing.cpu_count()\n",
    "# ## num_parallel_calls= cores ##\n",
    "# print(cores)"
   ]
  },
  {
   "cell_type": "markdown",
   "metadata": {
    "id": "jEzmOY7zkZRQ"
   },
   "source": [
    "# Model"
   ]
  },
  {
   "cell_type": "code",
   "execution_count": 71,
   "metadata": {
    "executionInfo": {
     "elapsed": 348,
     "status": "ok",
     "timestamp": 1614809622110,
     "user": {
      "displayName": "Thanh Nam NGUYEN",
      "photoUrl": "",
      "userId": "03809949562924165279"
     },
     "user_tz": -60
    },
    "id": "XatVBbD5AbgX"
   },
   "outputs": [],
   "source": [
    "from tensorflow.keras.layers import Conv2D, MaxPooling2D, Dropout, Flatten, Dense, Input, Lambda \n",
    "from tensorflow.keras.models import Model\n",
    "from tensorflow.python.keras.utils.vis_utils import plot_model"
   ]
  },
  {
   "cell_type": "markdown",
   "metadata": {
    "id": "rfnhDmxNAbgX"
   },
   "source": [
    "## Architectu"
   ]
  },
  {
   "cell_type": "markdown",
   "metadata": {
    "id": "YfARghx8AbgX"
   },
   "source": [
    "### Pipeline layers"
   ]
  },
  {
   "cell_type": "code",
   "execution_count": 72,
   "metadata": {
    "code_folding": [],
    "executionInfo": {
     "elapsed": 602,
     "status": "ok",
     "timestamp": 1614809622375,
     "user": {
      "displayName": "Thanh Nam NGUYEN",
      "photoUrl": "",
      "userId": "03809949562924165279"
     },
     "user_tz": -60
    },
    "id": "s62Exmo3AbgY"
   },
   "outputs": [],
   "source": [
    "@tf.function\n",
    "def my_pipeline_function(img):\n",
    "    if tf.math.reduce_mean(img) < 0.3 :\n",
    "        img = tf.image.adjust_contrast(img, 5)\n",
    "        img = tf.image.adjust_brightness(img, 0.2)\n",
    "    return img\n",
    "\n",
    "def my_pipeline_layers():\n",
    "    return Lambda(lambda input_layer: my_pipeline_function(input_layer))\n"
   ]
  },
  {
   "cell_type": "markdown",
   "metadata": {
    "id": "4e120Y5FAbgY"
   },
   "source": [
    "### Buid model"
   ]
  },
  {
   "cell_type": "code",
   "execution_count": 73,
   "metadata": {
    "executionInfo": {
     "elapsed": 594,
     "status": "ok",
     "timestamp": 1614809622376,
     "user": {
      "displayName": "Thanh Nam NGUYEN",
      "photoUrl": "",
      "userId": "03809949562924165279"
     },
     "user_tz": -60
    },
    "id": "aT9gHuDsAbgY"
   },
   "outputs": [],
   "source": [
    "def build_model():\n",
    "    input_layer = Input(shape=(RESIZED_HIGHT, RESIZED_WIDTH, 3))\n",
    "    x = my_pipeline_layers()(input_layer)\n",
    "    Conv2D(32, (5,5), activation = 'relu')(x)\n",
    "    Conv2D(64, (5,5), activation = 'relu')(x)\n",
    "    x = Flatten()(x)\n",
    "    x = Dense(1024, activation='relu')(x)\n",
    "    x = Dropout(0.4)(x)\n",
    "    clf_output = Dense(N_CLASSES, activation='softmax', name = 'ouput_clf')(x)\n",
    "    box_output = Dense(4, name = 'ouput_reg')(x)\n",
    "    model = Model(inputs = input_layer, outputs = [clf_output, box_output])\n",
    "    return model\n",
    "model = build_model()"
   ]
  },
  {
   "cell_type": "code",
   "execution_count": 74,
   "metadata": {
    "colab": {
     "base_uri": "https://localhost:8080/",
     "height": 418
    },
    "executionInfo": {
     "elapsed": 936,
     "status": "ok",
     "timestamp": 1614809622733,
     "user": {
      "displayName": "Thanh Nam NGUYEN",
      "photoUrl": "",
      "userId": "03809949562924165279"
     },
     "user_tz": -60
    },
    "id": "ypAzd5qsAbgZ",
    "outputId": "6f715741-b7c1-47bc-f808-bf6873ec6d45"
   },
   "outputs": [
    {
     "name": "stdout",
     "output_type": "stream",
     "text": [
      "Model: \"model_2\"\n",
      "__________________________________________________________________________________________________\n",
      "Layer (type)                    Output Shape         Param #     Connected to                     \n",
      "==================================================================================================\n",
      "input_3 (InputLayer)            [(None, 32, 32, 3)]  0                                            \n",
      "__________________________________________________________________________________________________\n",
      "lambda_2 (Lambda)               (None, 32, 32, 3)    0           input_3[0][0]                    \n",
      "__________________________________________________________________________________________________\n",
      "flatten_2 (Flatten)             (None, 3072)         0           lambda_2[0][0]                   \n",
      "__________________________________________________________________________________________________\n",
      "dense_2 (Dense)                 (None, 1024)         3146752     flatten_2[0][0]                  \n",
      "__________________________________________________________________________________________________\n",
      "dropout_2 (Dropout)             (None, 1024)         0           dense_2[0][0]                    \n",
      "__________________________________________________________________________________________________\n",
      "ouput_clf (Dense)               (None, 43)           44075       dropout_2[0][0]                  \n",
      "__________________________________________________________________________________________________\n",
      "ouput_reg (Dense)               (None, 4)            4100        dropout_2[0][0]                  \n",
      "==================================================================================================\n",
      "Total params: 3,194,927\n",
      "Trainable params: 3,194,927\n",
      "Non-trainable params: 0\n",
      "__________________________________________________________________________________________________\n"
     ]
    },
    {
     "data": {
      "image/png": "[encoded data removed]",
      "text/plain": [
       "<IPython.core.display.Image object>"
      ]
     },
     "execution_count": 74,
     "metadata": {
      "tags": []
     },
     "output_type": "execute_result"
    }
   ],
   "source": [
    "model.summary()\n",
    "plot_model(model)"
   ]
  },
  {
   "cell_type": "markdown",
   "metadata": {
    "id": "H-RPy87pAbgZ"
   },
   "source": [
    "## Optimization"
   ]
  },
  {
   "cell_type": "code",
   "execution_count": 75,
   "metadata": {
    "executionInfo": {
     "elapsed": 931,
     "status": "ok",
     "timestamp": 1614809622735,
     "user": {
      "displayName": "Thanh Nam NGUYEN",
      "photoUrl": "",
      "userId": "03809949562924165279"
     },
     "user_tz": -60
    },
    "id": "XA7euE4bAbga"
   },
   "outputs": [],
   "source": [
    "def intersection_over_union(pred_box, true_box):\n",
    "    xmin_pred, ymin_pred, xmax_pred, ymax_pred =  tf.split(pred_box, 4, axis = 0)\n",
    "    xmin_true, ymin_true, xmax_true, ymax_true = tf.split(true_box, 4, axis = 0)\n",
    "\n",
    "\n",
    "    xmin_overlap = tf.math.maximum(xmin_pred, xmin_true)\n",
    "    xmax_overlap = tf.math.minimum(xmax_pred, xmax_true)\n",
    "    ymin_overlap = tf.math.maximum(xmin_pred, xmin_true)\n",
    "    ymax_overlap = tf.math.minimum(ymax_pred, ymax_true)\n",
    "\n",
    "    pred_box_area = (xmax_pred - xmin_pred ) * (ymax_pred - ymin_pred )\n",
    "    true_box_area = (xmax_true - xmin_true) * (ymax_true - ymin_true)\n",
    "\n",
    "    overlap_area = tf.math.maximum((xmax_overlap - xmin_overlap), 0)  * tf.math.maximum((ymax_overlap - ymin_overlap), 0)\n",
    "    union_area = (pred_box_area + true_box_area) - overlap_area\n",
    "\n",
    "    iou = overlap_area / union_area\n",
    "\n",
    "    return iou"
   ]
  },
  {
   "cell_type": "code",
   "execution_count": 76,
   "metadata": {
    "code_folding": [],
    "executionInfo": {
     "elapsed": 924,
     "status": "ok",
     "timestamp": 1614809622736,
     "user": {
      "displayName": "Thanh Nam NGUYEN",
      "photoUrl": "",
      "userId": "03809949562924165279"
     },
     "user_tz": -60
    },
    "id": "UmShksgYAbga"
   },
   "outputs": [],
   "source": [
    "    #model.compile(loss=[\"mse\", \"mse\"], , optimizer=\"sgd\")\n",
    "    model.compile(optimizer='adam',\n",
    "                  loss=['sparse_categorical_crossentropy', 'mse'],\n",
    "                  #loss_weights=[0.5, 0.5],\n",
    "                  metrics= ['accuracy', intersection_over_union])"
   ]
  },
  {
   "cell_type": "markdown",
   "metadata": {
    "id": "t-ZnOUZ21qi1"
   },
   "source": [
    "# Training process"
   ]
  },
  {
   "cell_type": "code",
   "execution_count": 78,
   "metadata": {
    "colab": {
     "base_uri": "https://localhost:8080/",
     "height": 1000
    },
    "executionInfo": {
     "elapsed": 394087,
     "status": "error",
     "timestamp": 1614810050212,
     "user": {
      "displayName": "Thanh Nam NGUYEN",
      "photoUrl": "",
      "userId": "03809949562924165279"
     },
     "user_tz": -60
    },
    "id": "QfjT1vGkAbgb",
    "outputId": "fd285ffc-6480-4c92-9344-ebb774c7a8fc"
   },
   "outputs": [
    {
     "name": "stdout",
     "output_type": "stream",
     "text": [
      "Epoch 1/100\n",
      "490/490 [==============================] - 4s 6ms/step - loss: 0.9759 - ouput_clf_loss: 1.8818 - ouput_reg_loss: 0.0701 - ouput_clf_accuracy: 0.4879 - ouput_clf_intersection_over_union: -4.6096e-05 - ouput_reg_accuracy: 0.5060 - ouput_reg_intersection_over_union: -2.9299e-04 - val_loss: 0.6785 - val_ouput_clf_loss: 1.3097 - val_ouput_reg_loss: 0.0472 - val_ouput_clf_accuracy: 0.7084 - val_ouput_clf_intersection_over_union: nan - val_ouput_reg_accuracy: 0.4048 - val_ouput_reg_intersection_over_union: -3.2700e-04\n",
      "Epoch 2/100\n",
      "490/490 [==============================] - 4s 6ms/step - loss: 0.7604 - ouput_clf_loss: 1.4786 - ouput_reg_loss: 0.0422 - ouput_clf_accuracy: 0.5913 - ouput_clf_intersection_over_union: nan - ouput_reg_accuracy: 0.4608 - ouput_reg_intersection_over_union: -0.0231 - val_loss: 0.5223 - val_ouput_clf_loss: 1.0242 - val_ouput_reg_loss: 0.0203 - val_ouput_clf_accuracy: 0.7388 - val_ouput_clf_intersection_over_union: nan - val_ouput_reg_accuracy: 0.4202 - val_ouput_reg_intersection_over_union: 0.0038\n",
      "Epoch 3/100\n",
      "490/490 [==============================] - 4s 6ms/step - loss: 0.6369 - ouput_clf_loss: 1.2520 - ouput_reg_loss: 0.0218 - ouput_clf_accuracy: 0.6488 - ouput_clf_intersection_over_union: nan - ouput_reg_accuracy: 0.4502 - ouput_reg_intersection_over_union: 0.0158 - val_loss: 0.4433 - val_ouput_clf_loss: 0.8660 - val_ouput_reg_loss: 0.0206 - val_ouput_clf_accuracy: 0.7883 - val_ouput_clf_intersection_over_union: nan - val_ouput_reg_accuracy: 0.3888 - val_ouput_reg_intersection_over_union: 0.0050\n",
      "Epoch 4/100\n",
      "490/490 [==============================] - 4s 6ms/step - loss: 0.5617 - ouput_clf_loss: 1.1140 - ouput_reg_loss: 0.0094 - ouput_clf_accuracy: 0.6868 - ouput_clf_intersection_over_union: nan - ouput_reg_accuracy: 0.4418 - ouput_reg_intersection_over_union: 0.0339 - val_loss: 0.3800 - val_ouput_clf_loss: 0.7574 - val_ouput_reg_loss: 0.0025 - val_ouput_clf_accuracy: 0.8214 - val_ouput_clf_intersection_over_union: nan - val_ouput_reg_accuracy: 0.4321 - val_ouput_reg_intersection_over_union: 0.0040\n",
      "Epoch 5/100\n",
      "490/490 [==============================] - 4s 7ms/step - loss: 0.5220 - ouput_clf_loss: 1.0334 - ouput_reg_loss: 0.0106 - ouput_clf_accuracy: 0.7097 - ouput_clf_intersection_over_union: nan - ouput_reg_accuracy: 0.4636 - ouput_reg_intersection_over_union: -0.0403 - val_loss: 0.3424 - val_ouput_clf_loss: 0.6794 - val_ouput_reg_loss: 0.0055 - val_ouput_clf_accuracy: 0.8473 - val_ouput_clf_intersection_over_union: nan - val_ouput_reg_accuracy: 0.4606 - val_ouput_reg_intersection_over_union: -8.4806e-04\n",
      "Epoch 6/100\n",
      "490/490 [==============================] - 4s 7ms/step - loss: 0.4849 - ouput_clf_loss: 0.9602 - ouput_reg_loss: 0.0097 - ouput_clf_accuracy: 0.7301 - ouput_clf_intersection_over_union: nan - ouput_reg_accuracy: 0.4953 - ouput_reg_intersection_over_union: -0.0233 - val_loss: 0.3297 - val_ouput_clf_loss: 0.6576 - val_ouput_reg_loss: 0.0018 - val_ouput_clf_accuracy: 0.8390 - val_ouput_clf_intersection_over_union: nan - val_ouput_reg_accuracy: 0.4509 - val_ouput_reg_intersection_over_union: -0.0098\n",
      "Epoch 7/100\n",
      "490/490 [==============================] - 4s 7ms/step - loss: 0.4480 - ouput_clf_loss: 0.8856 - ouput_reg_loss: 0.0104 - ouput_clf_accuracy: 0.7505 - ouput_clf_intersection_over_union: nan - ouput_reg_accuracy: 0.4972 - ouput_reg_intersection_over_union: -0.0021 - val_loss: 0.3072 - val_ouput_clf_loss: 0.6086 - val_ouput_reg_loss: 0.0057 - val_ouput_clf_accuracy: 0.8532 - val_ouput_clf_intersection_over_union: nan - val_ouput_reg_accuracy: 0.5300 - val_ouput_reg_intersection_over_union: 0.0291\n",
      "Epoch 8/100\n",
      "490/490 [==============================] - 4s 7ms/step - loss: 0.4328 - ouput_clf_loss: 0.8451 - ouput_reg_loss: 0.0205 - ouput_clf_accuracy: 0.7590 - ouput_clf_intersection_over_union: nan - ouput_reg_accuracy: 0.4993 - ouput_reg_intersection_over_union: 0.0580 - val_loss: 0.2673 - val_ouput_clf_loss: 0.5327 - val_ouput_reg_loss: 0.0018 - val_ouput_clf_accuracy: 0.8810 - val_ouput_clf_intersection_over_union: nan - val_ouput_reg_accuracy: 0.6135 - val_ouput_reg_intersection_over_union: 0.0370\n",
      "Epoch 9/100\n",
      "490/490 [==============================] - 4s 7ms/step - loss: 0.4202 - ouput_clf_loss: 0.8383 - ouput_reg_loss: 0.0021 - ouput_clf_accuracy: 0.7639 - ouput_clf_intersection_over_union: nan - ouput_reg_accuracy: 0.5175 - ouput_reg_intersection_over_union: 4.3698e-05 - val_loss: 0.2835 - val_ouput_clf_loss: 0.5524 - val_ouput_reg_loss: 0.0145 - val_ouput_clf_accuracy: 0.8703 - val_ouput_clf_intersection_over_union: nan - val_ouput_reg_accuracy: 0.4324 - val_ouput_reg_intersection_over_union: 0.0138\n",
      "Epoch 10/100\n",
      "490/490 [==============================] - 4s 7ms/step - loss: 0.3977 - ouput_clf_loss: 0.7901 - ouput_reg_loss: 0.0053 - ouput_clf_accuracy: 0.7750 - ouput_clf_intersection_over_union: nan - ouput_reg_accuracy: 0.4996 - ouput_reg_intersection_over_union: -0.0176 - val_loss: 0.2737 - val_ouput_clf_loss: 0.5279 - val_ouput_reg_loss: 0.0195 - val_ouput_clf_accuracy: 0.8802 - val_ouput_clf_intersection_over_union: nan - val_ouput_reg_accuracy: 0.3862 - val_ouput_reg_intersection_over_union: -0.0027\n",
      "Epoch 11/100\n",
      "490/490 [==============================] - 4s 7ms/step - loss: 0.3895 - ouput_clf_loss: 0.7678 - ouput_reg_loss: 0.0111 - ouput_clf_accuracy: 0.7794 - ouput_clf_intersection_over_union: nan - ouput_reg_accuracy: 0.5020 - ouput_reg_intersection_over_union: 2.1583e-04 - val_loss: 0.2534 - val_ouput_clf_loss: 0.4998 - val_ouput_reg_loss: 0.0070 - val_ouput_clf_accuracy: 0.8894 - val_ouput_clf_intersection_over_union: nan - val_ouput_reg_accuracy: 0.5796 - val_ouput_reg_intersection_over_union: 0.0310\n",
      "Epoch 12/100\n",
      "490/490 [==============================] - 4s 7ms/step - loss: 0.3755 - ouput_clf_loss: 0.7452 - ouput_reg_loss: 0.0059 - ouput_clf_accuracy: 0.7905 - ouput_clf_intersection_over_union: nan - ouput_reg_accuracy: 0.5007 - ouput_reg_intersection_over_union: -0.0107 - val_loss: 0.2533 - val_ouput_clf_loss: 0.5028 - val_ouput_reg_loss: 0.0039 - val_ouput_clf_accuracy: 0.8837 - val_ouput_clf_intersection_over_union: nan - val_ouput_reg_accuracy: 0.5477 - val_ouput_reg_intersection_over_union: 0.0039\n",
      "Epoch 13/100\n",
      "490/490 [==============================] - 4s 7ms/step - loss: 0.3737 - ouput_clf_loss: 0.7354 - ouput_reg_loss: 0.0121 - ouput_clf_accuracy: 0.7914 - ouput_clf_intersection_over_union: nan - ouput_reg_accuracy: 0.5000 - ouput_reg_intersection_over_union: 0.0034 - val_loss: 0.2381 - val_ouput_clf_loss: 0.4747 - val_ouput_reg_loss: 0.0016 - val_ouput_clf_accuracy: 0.8938 - val_ouput_clf_intersection_over_union: nan - val_ouput_reg_accuracy: 0.5099 - val_ouput_reg_intersection_over_union: -0.4563\n",
      "Epoch 14/100\n",
      "490/490 [==============================] - 4s 7ms/step - loss: 0.3545 - ouput_clf_loss: 0.6972 - ouput_reg_loss: 0.0118 - ouput_clf_accuracy: 0.8025 - ouput_clf_intersection_over_union: nan - ouput_reg_accuracy: 0.5011 - ouput_reg_intersection_over_union: -0.0376 - val_loss: 0.2368 - val_ouput_clf_loss: 0.4651 - val_ouput_reg_loss: 0.0085 - val_ouput_clf_accuracy: 0.8973 - val_ouput_clf_intersection_over_union: nan - val_ouput_reg_accuracy: 0.6136 - val_ouput_reg_intersection_over_union: 4.3642e-04\n",
      "Epoch 15/100\n",
      "490/490 [==============================] - 4s 7ms/step - loss: 0.3497 - ouput_clf_loss: 0.6929 - ouput_reg_loss: 0.0065 - ouput_clf_accuracy: 0.8000 - ouput_clf_intersection_over_union: nan - ouput_reg_accuracy: 0.5054 - ouput_reg_intersection_over_union: -0.0062 - val_loss: 0.2533 - val_ouput_clf_loss: 0.4894 - val_ouput_reg_loss: 0.0172 - val_ouput_clf_accuracy: 0.8981 - val_ouput_clf_intersection_over_union: nan - val_ouput_reg_accuracy: 0.3880 - val_ouput_reg_intersection_over_union: -0.0029\n",
      "Epoch 16/100\n",
      "490/490 [==============================] - 4s 7ms/step - loss: 0.3420 - ouput_clf_loss: 0.6700 - ouput_reg_loss: 0.0141 - ouput_clf_accuracy: 0.8062 - ouput_clf_intersection_over_union: nan - ouput_reg_accuracy: 0.5114 - ouput_reg_intersection_over_union: 0.0375 - val_loss: 0.2194 - val_ouput_clf_loss: 0.4340 - val_ouput_reg_loss: 0.0048 - val_ouput_clf_accuracy: 0.9055 - val_ouput_clf_intersection_over_union: nan - val_ouput_reg_accuracy: 0.4667 - val_ouput_reg_intersection_over_union: 0.0025\n",
      "Epoch 17/100\n",
      "490/490 [==============================] - 4s 7ms/step - loss: 0.3460 - ouput_clf_loss: 0.6674 - ouput_reg_loss: 0.0247 - ouput_clf_accuracy: 0.8045 - ouput_clf_intersection_over_union: nan - ouput_reg_accuracy: 0.4989 - ouput_reg_intersection_over_union: -0.0055 - val_loss: 0.2870 - val_ouput_clf_loss: 0.4814 - val_ouput_reg_loss: 0.0927 - val_ouput_clf_accuracy: 0.8926 - val_ouput_clf_intersection_over_union: nan - val_ouput_reg_accuracy: 0.5478 - val_ouput_reg_intersection_over_union: -6.2264e-04\n",
      "Epoch 18/100\n",
      "490/490 [==============================] - 4s 7ms/step - loss: 0.3426 - ouput_clf_loss: 0.6780 - ouput_reg_loss: 0.0072 - ouput_clf_accuracy: 0.8078 - ouput_clf_intersection_over_union: nan - ouput_reg_accuracy: 0.5056 - ouput_reg_intersection_over_union: -0.0022 - val_loss: 0.2319 - val_ouput_clf_loss: 0.4617 - val_ouput_reg_loss: 0.0020 - val_ouput_clf_accuracy: 0.8935 - val_ouput_clf_intersection_over_union: nan - val_ouput_reg_accuracy: 0.5241 - val_ouput_reg_intersection_over_union: -0.0029\n",
      "Epoch 19/100\n",
      "490/490 [==============================] - 4s 7ms/step - loss: 0.3316 - ouput_clf_loss: 0.6523 - ouput_reg_loss: 0.0109 - ouput_clf_accuracy: 0.8106 - ouput_clf_intersection_over_union: nan - ouput_reg_accuracy: 0.4973 - ouput_reg_intersection_over_union: 0.0991 - val_loss: 0.2127 - val_ouput_clf_loss: 0.4219 - val_ouput_reg_loss: 0.0034 - val_ouput_clf_accuracy: 0.8967 - val_ouput_clf_intersection_over_union: nan - val_ouput_reg_accuracy: 0.3995 - val_ouput_reg_intersection_over_union: 0.0126\n",
      "Epoch 20/100\n",
      "490/490 [==============================] - 4s 7ms/step - loss: 0.3305 - ouput_clf_loss: 0.6544 - ouput_reg_loss: 0.0066 - ouput_clf_accuracy: 0.8103 - ouput_clf_intersection_over_union: nan - ouput_reg_accuracy: 0.5141 - ouput_reg_intersection_over_union: 0.0101 - val_loss: 0.2116 - val_ouput_clf_loss: 0.4106 - val_ouput_reg_loss: 0.0127 - val_ouput_clf_accuracy: 0.9082 - val_ouput_clf_intersection_over_union: nan - val_ouput_reg_accuracy: 0.3864 - val_ouput_reg_intersection_over_union: 0.0062\n",
      "Epoch 21/100\n",
      "490/490 [==============================] - 4s 7ms/step - loss: 0.3288 - ouput_clf_loss: 0.6268 - ouput_reg_loss: 0.0307 - ouput_clf_accuracy: 0.8174 - ouput_clf_intersection_over_union: nan - ouput_reg_accuracy: 0.4923 - ouput_reg_intersection_over_union: -7.3119e-04 - val_loss: 0.2063 - val_ouput_clf_loss: 0.4113 - val_ouput_reg_loss: 0.0013 - val_ouput_clf_accuracy: 0.9079 - val_ouput_clf_intersection_over_union: nan - val_ouput_reg_accuracy: 0.5005 - val_ouput_reg_intersection_over_union: 0.0162\n",
      "Epoch 22/100\n",
      "490/490 [==============================] - 4s 7ms/step - loss: 0.3095 - ouput_clf_loss: 0.6171 - ouput_reg_loss: 0.0018 - ouput_clf_accuracy: 0.8216 - ouput_clf_intersection_over_union: nan - ouput_reg_accuracy: 0.5262 - ouput_reg_intersection_over_union: -0.0029 - val_loss: 0.2154 - val_ouput_clf_loss: 0.4208 - val_ouput_reg_loss: 0.0101 - val_ouput_clf_accuracy: 0.9064 - val_ouput_clf_intersection_over_union: nan - val_ouput_reg_accuracy: 0.4019 - val_ouput_reg_intersection_over_union: 0.0469\n",
      "Epoch 23/100\n",
      "490/490 [==============================] - 4s 7ms/step - loss: 0.3168 - ouput_clf_loss: 0.6268 - ouput_reg_loss: 0.0069 - ouput_clf_accuracy: 0.8236 - ouput_clf_intersection_over_union: nan - ouput_reg_accuracy: 0.5079 - ouput_reg_intersection_over_union: 0.0315 - val_loss: 0.2123 - val_ouput_clf_loss: 0.4211 - val_ouput_reg_loss: 0.0035 - val_ouput_clf_accuracy: 0.9057 - val_ouput_clf_intersection_over_union: nan - val_ouput_reg_accuracy: 0.4783 - val_ouput_reg_intersection_over_union: 0.0169\n",
      "Epoch 24/100\n",
      "490/490 [==============================] - 4s 7ms/step - loss: 0.3130 - ouput_clf_loss: 0.6193 - ouput_reg_loss: 0.0068 - ouput_clf_accuracy: 0.8210 - ouput_clf_intersection_over_union: nan - ouput_reg_accuracy: 0.5106 - ouput_reg_intersection_over_union: -0.0049 - val_loss: 0.2769 - val_ouput_clf_loss: 0.4186 - val_ouput_reg_loss: 0.1353 - val_ouput_clf_accuracy: 0.9087 - val_ouput_clf_intersection_over_union: nan - val_ouput_reg_accuracy: 0.5241 - val_ouput_reg_intersection_over_union: 2.1916e-05\n",
      "Epoch 25/100\n",
      "490/490 [==============================] - 4s 7ms/step - loss: 0.3167 - ouput_clf_loss: 0.6133 - ouput_reg_loss: 0.0200 - ouput_clf_accuracy: 0.8217 - ouput_clf_intersection_over_union: nan - ouput_reg_accuracy: 0.4957 - ouput_reg_intersection_over_union: -0.0037 - val_loss: 0.1936 - val_ouput_clf_loss: 0.3851 - val_ouput_reg_loss: 0.0021 - val_ouput_clf_accuracy: 0.9147 - val_ouput_clf_intersection_over_union: nan - val_ouput_reg_accuracy: 0.5955 - val_ouput_reg_intersection_over_union: -0.2023\n",
      "Epoch 26/100\n",
      "490/490 [==============================] - 4s 7ms/step - loss: 0.2889 - ouput_clf_loss: 0.5737 - ouput_reg_loss: 0.0042 - ouput_clf_accuracy: 0.8352 - ouput_clf_intersection_over_union: nan - ouput_reg_accuracy: 0.4996 - ouput_reg_intersection_over_union: -1.4951e-04 - val_loss: 0.2001 - val_ouput_clf_loss: 0.3975 - val_ouput_reg_loss: 0.0027 - val_ouput_clf_accuracy: 0.9119 - val_ouput_clf_intersection_over_union: nan - val_ouput_reg_accuracy: 0.5302 - val_ouput_reg_intersection_over_union: 0.0297\n",
      "Epoch 27/100\n",
      "490/490 [==============================] - 4s 7ms/step - loss: 0.3063 - ouput_clf_loss: 0.5904 - ouput_reg_loss: 0.0222 - ouput_clf_accuracy: 0.8293 - ouput_clf_intersection_over_union: nan - ouput_reg_accuracy: 0.4967 - ouput_reg_intersection_over_union: -0.0021 - val_loss: 0.1959 - val_ouput_clf_loss: 0.3889 - val_ouput_reg_loss: 0.0029 - val_ouput_clf_accuracy: 0.9185 - val_ouput_clf_intersection_over_union: nan - val_ouput_reg_accuracy: 0.6139 - val_ouput_reg_intersection_over_union: 0.0035\n",
      "Epoch 28/100\n",
      "490/490 [==============================] - 4s 7ms/step - loss: 0.2854 - ouput_clf_loss: 0.5681 - ouput_reg_loss: 0.0027 - ouput_clf_accuracy: 0.8333 - ouput_clf_intersection_over_union: nan - ouput_reg_accuracy: 0.5115 - ouput_reg_intersection_over_union: 0.0156 - val_loss: 0.1977 - val_ouput_clf_loss: 0.3939 - val_ouput_reg_loss: 0.0015 - val_ouput_clf_accuracy: 0.9134 - val_ouput_clf_intersection_over_union: nan - val_ouput_reg_accuracy: 0.5950 - val_ouput_reg_intersection_over_union: 0.0149\n",
      "Epoch 29/100\n",
      "490/490 [==============================] - 4s 7ms/step - loss: 0.2960 - ouput_clf_loss: 0.5646 - ouput_reg_loss: 0.0274 - ouput_clf_accuracy: 0.8345 - ouput_clf_intersection_over_union: nan - ouput_reg_accuracy: 0.4892 - ouput_reg_intersection_over_union: 0.0157 - val_loss: 0.1998 - val_ouput_clf_loss: 0.3982 - val_ouput_reg_loss: 0.0014 - val_ouput_clf_accuracy: 0.9165 - val_ouput_clf_intersection_over_union: nan - val_ouput_reg_accuracy: 0.6170 - val_ouput_reg_intersection_over_union: -0.0292\n",
      "Epoch 30/100\n",
      "490/490 [==============================] - 4s 7ms/step - loss: 0.2952 - ouput_clf_loss: 0.5882 - ouput_reg_loss: 0.0022 - ouput_clf_accuracy: 0.8326 - ouput_clf_intersection_over_union: nan - ouput_reg_accuracy: 0.4979 - ouput_reg_intersection_over_union: 0.0163 - val_loss: 0.2095 - val_ouput_clf_loss: 0.4174 - val_ouput_reg_loss: 0.0015 - val_ouput_clf_accuracy: 0.9040 - val_ouput_clf_intersection_over_union: nan - val_ouput_reg_accuracy: 0.3915 - val_ouput_reg_intersection_over_union: -0.0031\n",
      "Epoch 31/100\n",
      "490/490 [==============================] - 4s 7ms/step - loss: 0.2810 - ouput_clf_loss: 0.5497 - ouput_reg_loss: 0.0122 - ouput_clf_accuracy: 0.8399 - ouput_clf_intersection_over_union: nan - ouput_reg_accuracy: 0.5005 - ouput_reg_intersection_over_union: -0.0013 - val_loss: 0.1950 - val_ouput_clf_loss: 0.3741 - val_ouput_reg_loss: 0.0158 - val_ouput_clf_accuracy: 0.9144 - val_ouput_clf_intersection_over_union: nan - val_ouput_reg_accuracy: 0.5545 - val_ouput_reg_intersection_over_union: 0.0016\n",
      "Epoch 32/100\n",
      "490/490 [==============================] - 4s 7ms/step - loss: 0.2902 - ouput_clf_loss: 0.5736 - ouput_reg_loss: 0.0067 - ouput_clf_accuracy: 0.8328 - ouput_clf_intersection_over_union: nan - ouput_reg_accuracy: 0.4976 - ouput_reg_intersection_over_union: -0.0285 - val_loss: 0.1832 - val_ouput_clf_loss: 0.3642 - val_ouput_reg_loss: 0.0022 - val_ouput_clf_accuracy: 0.9191 - val_ouput_clf_intersection_over_union: nan - val_ouput_reg_accuracy: 0.6128 - val_ouput_reg_intersection_over_union: 0.0033\n",
      "Epoch 33/100\n",
      "490/490 [==============================] - 4s 7ms/step - loss: 0.3002 - ouput_clf_loss: 0.5617 - ouput_reg_loss: 0.0388 - ouput_clf_accuracy: 0.8393 - ouput_clf_intersection_over_union: nan - ouput_reg_accuracy: 0.4645 - ouput_reg_intersection_over_union: -0.0064 - val_loss: 0.1925 - val_ouput_clf_loss: 0.3837 - val_ouput_reg_loss: 0.0013 - val_ouput_clf_accuracy: 0.9148 - val_ouput_clf_intersection_over_union: nan - val_ouput_reg_accuracy: 0.5445 - val_ouput_reg_intersection_over_union: 3.1113e-04\n",
      "Epoch 34/100\n",
      "490/490 [==============================] - 4s 7ms/step - loss: 0.2821 - ouput_clf_loss: 0.5626 - ouput_reg_loss: 0.0017 - ouput_clf_accuracy: 0.8383 - ouput_clf_intersection_over_union: nan - ouput_reg_accuracy: 0.4915 - ouput_reg_intersection_over_union: -0.0083 - val_loss: 0.1847 - val_ouput_clf_loss: 0.3628 - val_ouput_reg_loss: 0.0066 - val_ouput_clf_accuracy: 0.9224 - val_ouput_clf_intersection_over_union: nan - val_ouput_reg_accuracy: 0.6036 - val_ouput_reg_intersection_over_union: -0.0034\n",
      "Epoch 35/100\n",
      "490/490 [==============================] - 4s 7ms/step - loss: 0.3022 - ouput_clf_loss: 0.5599 - ouput_reg_loss: 0.0445 - ouput_clf_accuracy: 0.8388 - ouput_clf_intersection_over_union: nan - ouput_reg_accuracy: 0.4956 - ouput_reg_intersection_over_union: 0.0012 - val_loss: 0.1994 - val_ouput_clf_loss: 0.3945 - val_ouput_reg_loss: 0.0043 - val_ouput_clf_accuracy: 0.9008 - val_ouput_clf_intersection_over_union: nan - val_ouput_reg_accuracy: 0.4699 - val_ouput_reg_intersection_over_union: 0.0013\n",
      "Epoch 36/100\n",
      "490/490 [==============================] - 4s 7ms/step - loss: 0.2787 - ouput_clf_loss: 0.5552 - ouput_reg_loss: 0.0023 - ouput_clf_accuracy: 0.8405 - ouput_clf_intersection_over_union: nan - ouput_reg_accuracy: 0.4687 - ouput_reg_intersection_over_union: 0.0062 - val_loss: 0.1831 - val_ouput_clf_loss: 0.3625 - val_ouput_reg_loss: 0.0037 - val_ouput_clf_accuracy: 0.9244 - val_ouput_clf_intersection_over_union: nan - val_ouput_reg_accuracy: 0.3922 - val_ouput_reg_intersection_over_union: -9.4218e-04\n",
      "Epoch 37/100\n",
      "490/490 [==============================] - 4s 7ms/step - loss: 0.2766 - ouput_clf_loss: 0.5422 - ouput_reg_loss: 0.0111 - ouput_clf_accuracy: 0.8416 - ouput_clf_intersection_over_union: nan - ouput_reg_accuracy: 0.5029 - ouput_reg_intersection_over_union: 0.0068 - val_loss: 0.4280 - val_ouput_clf_loss: 0.4010 - val_ouput_reg_loss: 0.4550 - val_ouput_clf_accuracy: 0.9117 - val_ouput_clf_intersection_over_union: nan - val_ouput_reg_accuracy: 0.6136 - val_ouput_reg_intersection_over_union: 0.0012\n",
      "Epoch 38/100\n",
      "490/490 [==============================] - 4s 7ms/step - loss: 0.2791 - ouput_clf_loss: 0.5333 - ouput_reg_loss: 0.0250 - ouput_clf_accuracy: 0.8444 - ouput_clf_intersection_over_union: nan - ouput_reg_accuracy: 0.4902 - ouput_reg_intersection_over_union: -0.0067 - val_loss: 0.1752 - val_ouput_clf_loss: 0.3478 - val_ouput_reg_loss: 0.0027 - val_ouput_clf_accuracy: 0.9270 - val_ouput_clf_intersection_over_union: nan - val_ouput_reg_accuracy: 0.4358 - val_ouput_reg_intersection_over_union: -0.0215\n",
      "Epoch 39/100\n",
      "490/490 [==============================] - 4s 7ms/step - loss: 0.2556 - ouput_clf_loss: 0.5092 - ouput_reg_loss: 0.0020 - ouput_clf_accuracy: 0.8478 - ouput_clf_intersection_over_union: nan - ouput_reg_accuracy: 0.4859 - ouput_reg_intersection_over_union: -0.0063 - val_loss: 0.1976 - val_ouput_clf_loss: 0.3939 - val_ouput_reg_loss: 0.0012 - val_ouput_clf_accuracy: 0.9098 - val_ouput_clf_intersection_over_union: nan - val_ouput_reg_accuracy: 0.5816 - val_ouput_reg_intersection_over_union: 0.0216\n",
      "Epoch 40/100\n",
      "490/490 [==============================] - 4s 7ms/step - loss: 0.2553 - ouput_clf_loss: 0.5077 - ouput_reg_loss: 0.0029 - ouput_clf_accuracy: 0.8502 - ouput_clf_intersection_over_union: nan - ouput_reg_accuracy: 0.5060 - ouput_reg_intersection_over_union: 0.0024 - val_loss: 0.2221 - val_ouput_clf_loss: 0.3963 - val_ouput_reg_loss: 0.0479 - val_ouput_clf_accuracy: 0.9181 - val_ouput_clf_intersection_over_union: nan - val_ouput_reg_accuracy: 0.5312 - val_ouput_reg_intersection_over_union: 0.0290\n",
      "Epoch 41/100\n",
      "490/490 [==============================] - 4s 7ms/step - loss: 0.2782 - ouput_clf_loss: 0.5407 - ouput_reg_loss: 0.0156 - ouput_clf_accuracy: 0.8434 - ouput_clf_intersection_over_union: nan - ouput_reg_accuracy: 0.5102 - ouput_reg_intersection_over_union: 0.0193 - val_loss: 0.1968 - val_ouput_clf_loss: 0.3890 - val_ouput_reg_loss: 0.0045 - val_ouput_clf_accuracy: 0.9182 - val_ouput_clf_intersection_over_union: nan - val_ouput_reg_accuracy: 0.5931 - val_ouput_reg_intersection_over_union: -0.0086\n",
      "Epoch 42/100\n",
      "490/490 [==============================] - 4s 7ms/step - loss: 0.2680 - ouput_clf_loss: 0.5180 - ouput_reg_loss: 0.0180 - ouput_clf_accuracy: 0.8525 - ouput_clf_intersection_over_union: nan - ouput_reg_accuracy: 0.5093 - ouput_reg_intersection_over_union: -0.0017 - val_loss: 0.1898 - val_ouput_clf_loss: 0.3593 - val_ouput_reg_loss: 0.0203 - val_ouput_clf_accuracy: 0.9205 - val_ouput_clf_intersection_over_union: nan - val_ouput_reg_accuracy: 0.4006 - val_ouput_reg_intersection_over_union: -0.0046\n",
      "Epoch 43/100\n",
      "490/490 [==============================] - 4s 7ms/step - loss: 0.2986 - ouput_clf_loss: 0.5594 - ouput_reg_loss: 0.0378 - ouput_clf_accuracy: 0.8369 - ouput_clf_intersection_over_union: nan - ouput_reg_accuracy: 0.4998 - ouput_reg_intersection_over_union: -0.0066 - val_loss: 0.2011 - val_ouput_clf_loss: 0.3930 - val_ouput_reg_loss: 0.0092 - val_ouput_clf_accuracy: 0.9077 - val_ouput_clf_intersection_over_union: nan - val_ouput_reg_accuracy: 0.4365 - val_ouput_reg_intersection_over_union: 0.0075\n",
      "Epoch 44/100\n",
      "490/490 [==============================] - 4s 7ms/step - loss: 0.2706 - ouput_clf_loss: 0.5278 - ouput_reg_loss: 0.0134 - ouput_clf_accuracy: 0.8474 - ouput_clf_intersection_over_union: nan - ouput_reg_accuracy: 0.5417 - ouput_reg_intersection_over_union: 0.0059 - val_loss: 0.1755 - val_ouput_clf_loss: 0.3484 - val_ouput_reg_loss: 0.0025 - val_ouput_clf_accuracy: 0.9282 - val_ouput_clf_intersection_over_union: nan - val_ouput_reg_accuracy: 0.5034 - val_ouput_reg_intersection_over_union: -0.0062\n",
      "Epoch 45/100\n",
      "490/490 [==============================] - 4s 7ms/step - loss: 0.2646 - ouput_clf_loss: 0.5199 - ouput_reg_loss: 0.0093 - ouput_clf_accuracy: 0.8497 - ouput_clf_intersection_over_union: nan - ouput_reg_accuracy: 0.5445 - ouput_reg_intersection_over_union: -0.0020 - val_loss: 0.2227 - val_ouput_clf_loss: 0.4228 - val_ouput_reg_loss: 0.0225 - val_ouput_clf_accuracy: 0.9059 - val_ouput_clf_intersection_over_union: nan - val_ouput_reg_accuracy: 0.3851 - val_ouput_reg_intersection_over_union: 0.0024\n",
      "Epoch 46/100\n",
      "490/490 [==============================] - 4s 7ms/step - loss: 0.2624 - ouput_clf_loss: 0.5102 - ouput_reg_loss: 0.0145 - ouput_clf_accuracy: 0.8549 - ouput_clf_intersection_over_union: nan - ouput_reg_accuracy: 0.4908 - ouput_reg_intersection_over_union: 0.0097 - val_loss: 0.1913 - val_ouput_clf_loss: 0.3464 - val_ouput_reg_loss: 0.0361 - val_ouput_clf_accuracy: 0.9242 - val_ouput_clf_intersection_over_union: nan - val_ouput_reg_accuracy: 0.3805 - val_ouput_reg_intersection_over_union: -0.0051\n",
      "Epoch 47/100\n",
      "490/490 [==============================] - 4s 7ms/step - loss: 0.2499 - ouput_clf_loss: 0.4864 - ouput_reg_loss: 0.0133 - ouput_clf_accuracy: 0.8560 - ouput_clf_intersection_over_union: nan - ouput_reg_accuracy: 0.4997 - ouput_reg_intersection_over_union: 0.0053 - val_loss: 0.1754 - val_ouput_clf_loss: 0.3492 - val_ouput_reg_loss: 0.0015 - val_ouput_clf_accuracy: 0.9281 - val_ouput_clf_intersection_over_union: nan - val_ouput_reg_accuracy: 0.4959 - val_ouput_reg_intersection_over_union: 0.0096\n",
      "Epoch 48/100\n",
      "490/490 [==============================] - 4s 7ms/step - loss: 0.2576 - ouput_clf_loss: 0.5048 - ouput_reg_loss: 0.0105 - ouput_clf_accuracy: 0.8532 - ouput_clf_intersection_over_union: nan - ouput_reg_accuracy: 0.5099 - ouput_reg_intersection_over_union: 0.0095 - val_loss: 0.1829 - val_ouput_clf_loss: 0.3582 - val_ouput_reg_loss: 0.0077 - val_ouput_clf_accuracy: 0.9260 - val_ouput_clf_intersection_over_union: nan - val_ouput_reg_accuracy: 0.6138 - val_ouput_reg_intersection_over_union: 1.2439e-04\n",
      "Epoch 49/100\n",
      "490/490 [==============================] - 4s 7ms/step - loss: 0.2695 - ouput_clf_loss: 0.5052 - ouput_reg_loss: 0.0338 - ouput_clf_accuracy: 0.8504 - ouput_clf_intersection_over_union: nan - ouput_reg_accuracy: 0.5025 - ouput_reg_intersection_over_union: -0.0201 - val_loss: 0.1673 - val_ouput_clf_loss: 0.3328 - val_ouput_reg_loss: 0.0018 - val_ouput_clf_accuracy: 0.9332 - val_ouput_clf_intersection_over_union: nan - val_ouput_reg_accuracy: 0.5440 - val_ouput_reg_intersection_over_union: 0.0094\n",
      "Epoch 50/100\n",
      "490/490 [==============================] - 4s 7ms/step - loss: 0.2533 - ouput_clf_loss: 0.4893 - ouput_reg_loss: 0.0173 - ouput_clf_accuracy: 0.8562 - ouput_clf_intersection_over_union: nan - ouput_reg_accuracy: 0.5049 - ouput_reg_intersection_over_union: -0.0091 - val_loss: 0.1846 - val_ouput_clf_loss: 0.3676 - val_ouput_reg_loss: 0.0016 - val_ouput_clf_accuracy: 0.9255 - val_ouput_clf_intersection_over_union: nan - val_ouput_reg_accuracy: 0.4871 - val_ouput_reg_intersection_over_union: 0.0037\n",
      "Epoch 51/100\n",
      "490/490 [==============================] - 4s 7ms/step - loss: 0.2605 - ouput_clf_loss: 0.5099 - ouput_reg_loss: 0.0111 - ouput_clf_accuracy: 0.8480 - ouput_clf_intersection_over_union: nan - ouput_reg_accuracy: 0.4938 - ouput_reg_intersection_over_union: 5.6092e-04 - val_loss: 0.1776 - val_ouput_clf_loss: 0.3525 - val_ouput_reg_loss: 0.0027 - val_ouput_clf_accuracy: 0.9274 - val_ouput_clf_intersection_over_union: nan - val_ouput_reg_accuracy: 0.5929 - val_ouput_reg_intersection_over_union: 0.0028\n",
      "Epoch 52/100\n",
      "490/490 [==============================] - 4s 7ms/step - loss: 0.2413 - ouput_clf_loss: 0.4768 - ouput_reg_loss: 0.0058 - ouput_clf_accuracy: 0.8603 - ouput_clf_intersection_over_union: nan - ouput_reg_accuracy: 0.4948 - ouput_reg_intersection_over_union: -4.4831e-04 - val_loss: 0.1801 - val_ouput_clf_loss: 0.3523 - val_ouput_reg_loss: 0.0079 - val_ouput_clf_accuracy: 0.9276 - val_ouput_clf_intersection_over_union: nan - val_ouput_reg_accuracy: 0.5713 - val_ouput_reg_intersection_over_union: -0.0061\n",
      "Epoch 53/100\n",
      "490/490 [==============================] - 4s 7ms/step - loss: 0.3091 - ouput_clf_loss: 0.5262 - ouput_reg_loss: 0.0921 - ouput_clf_accuracy: 0.8461 - ouput_clf_intersection_over_union: nan - ouput_reg_accuracy: 0.5074 - ouput_reg_intersection_over_union: 0.0012 - val_loss: 0.1869 - val_ouput_clf_loss: 0.3687 - val_ouput_reg_loss: 0.0050 - val_ouput_clf_accuracy: 0.9236 - val_ouput_clf_intersection_over_union: nan - val_ouput_reg_accuracy: 0.5184 - val_ouput_reg_intersection_over_union: 0.0082\n",
      "Epoch 54/100\n",
      "490/490 [==============================] - 4s 7ms/step - loss: 0.2476 - ouput_clf_loss: 0.4936 - ouput_reg_loss: 0.0017 - ouput_clf_accuracy: 0.8567 - ouput_clf_intersection_over_union: nan - ouput_reg_accuracy: 0.5371 - ouput_reg_intersection_over_union: 0.0472 - val_loss: 0.1786 - val_ouput_clf_loss: 0.3560 - val_ouput_reg_loss: 0.0012 - val_ouput_clf_accuracy: 0.9242 - val_ouput_clf_intersection_over_union: nan - val_ouput_reg_accuracy: 0.5094 - val_ouput_reg_intersection_over_union: 7.1211e-04\n",
      "Epoch 55/100\n",
      "490/490 [==============================] - 4s 7ms/step - loss: 0.2461 - ouput_clf_loss: 0.4905 - ouput_reg_loss: 0.0018 - ouput_clf_accuracy: 0.8555 - ouput_clf_intersection_over_union: nan - ouput_reg_accuracy: 0.5276 - ouput_reg_intersection_over_union: 0.0027 - val_loss: 0.1798 - val_ouput_clf_loss: 0.3582 - val_ouput_reg_loss: 0.0013 - val_ouput_clf_accuracy: 0.9247 - val_ouput_clf_intersection_over_union: nan - val_ouput_reg_accuracy: 0.3902 - val_ouput_reg_intersection_over_union: -0.0063\n",
      "Epoch 56/100\n",
      "490/490 [==============================] - 4s 7ms/step - loss: 0.2488 - ouput_clf_loss: 0.4942 - ouput_reg_loss: 0.0033 - ouput_clf_accuracy: 0.8526 - ouput_clf_intersection_over_union: nan - ouput_reg_accuracy: 0.5101 - ouput_reg_intersection_over_union: 0.0271 - val_loss: 0.1803 - val_ouput_clf_loss: 0.3562 - val_ouput_reg_loss: 0.0044 - val_ouput_clf_accuracy: 0.9320 - val_ouput_clf_intersection_over_union: nan - val_ouput_reg_accuracy: 0.5681 - val_ouput_reg_intersection_over_union: -0.1143\n",
      "Epoch 57/100\n",
      "490/490 [==============================] - 4s 7ms/step - loss: 0.2600 - ouput_clf_loss: 0.4943 - ouput_reg_loss: 0.0257 - ouput_clf_accuracy: 0.8506 - ouput_clf_intersection_over_union: nan - ouput_reg_accuracy: 0.4984 - ouput_reg_intersection_over_union: 0.0025 - val_loss: 0.1766 - val_ouput_clf_loss: 0.3474 - val_ouput_reg_loss: 0.0057 - val_ouput_clf_accuracy: 0.9318 - val_ouput_clf_intersection_over_union: nan - val_ouput_reg_accuracy: 0.4625 - val_ouput_reg_intersection_over_union: -0.0184\n",
      "Epoch 58/100\n",
      "490/490 [==============================] - 4s 7ms/step - loss: 0.2436 - ouput_clf_loss: 0.4836 - ouput_reg_loss: 0.0036 - ouput_clf_accuracy: 0.8544 - ouput_clf_intersection_over_union: nan - ouput_reg_accuracy: 0.4571 - ouput_reg_intersection_over_union: -0.0018 - val_loss: 0.1839 - val_ouput_clf_loss: 0.3598 - val_ouput_reg_loss: 0.0080 - val_ouput_clf_accuracy: 0.9210 - val_ouput_clf_intersection_over_union: nan - val_ouput_reg_accuracy: 0.3889 - val_ouput_reg_intersection_over_union: 0.0070\n",
      "Epoch 59/100\n",
      "490/490 [==============================] - 4s 7ms/step - loss: 0.2438 - ouput_clf_loss: 0.4793 - ouput_reg_loss: 0.0083 - ouput_clf_accuracy: 0.8578 - ouput_clf_intersection_over_union: nan - ouput_reg_accuracy: 0.5089 - ouput_reg_intersection_over_union: -0.0075 - val_loss: 0.2150 - val_ouput_clf_loss: 0.4156 - val_ouput_reg_loss: 0.0143 - val_ouput_clf_accuracy: 0.9106 - val_ouput_clf_intersection_over_union: nan - val_ouput_reg_accuracy: 0.4343 - val_ouput_reg_intersection_over_union: -0.0080\n",
      "Epoch 60/100\n",
      "490/490 [==============================] - 4s 7ms/step - loss: 0.2482 - ouput_clf_loss: 0.4770 - ouput_reg_loss: 0.0193 - ouput_clf_accuracy: 0.8581 - ouput_clf_intersection_over_union: nan - ouput_reg_accuracy: 0.5041 - ouput_reg_intersection_over_union: 0.0066 - val_loss: 0.1979 - val_ouput_clf_loss: 0.3675 - val_ouput_reg_loss: 0.0283 - val_ouput_clf_accuracy: 0.9260 - val_ouput_clf_intersection_over_union: nan - val_ouput_reg_accuracy: 0.3941 - val_ouput_reg_intersection_over_union: 0.0030\n",
      "Epoch 61/100\n",
      "490/490 [==============================] - 4s 7ms/step - loss: 0.2499 - ouput_clf_loss: 0.4768 - ouput_reg_loss: 0.0231 - ouput_clf_accuracy: 0.8611 - ouput_clf_intersection_over_union: nan - ouput_reg_accuracy: 0.5299 - ouput_reg_intersection_over_union: -0.0178 - val_loss: 0.1894 - val_ouput_clf_loss: 0.3772 - val_ouput_reg_loss: 0.0016 - val_ouput_clf_accuracy: 0.9194 - val_ouput_clf_intersection_over_union: nan - val_ouput_reg_accuracy: 0.5184 - val_ouput_reg_intersection_over_union: 8.0459e-04\n",
      "Epoch 62/100\n",
      "490/490 [==============================] - 4s 7ms/step - loss: 0.2414 - ouput_clf_loss: 0.4778 - ouput_reg_loss: 0.0049 - ouput_clf_accuracy: 0.8590 - ouput_clf_intersection_over_union: nan - ouput_reg_accuracy: 0.5159 - ouput_reg_intersection_over_union: 0.0105 - val_loss: 0.1764 - val_ouput_clf_loss: 0.3304 - val_ouput_reg_loss: 0.0224 - val_ouput_clf_accuracy: 0.9337 - val_ouput_clf_intersection_over_union: nan - val_ouput_reg_accuracy: 0.5015 - val_ouput_reg_intersection_over_union: 0.0204\n",
      "Epoch 63/100\n",
      "490/490 [==============================] - 4s 7ms/step - loss: 0.2524 - ouput_clf_loss: 0.4635 - ouput_reg_loss: 0.0413 - ouput_clf_accuracy: 0.8617 - ouput_clf_intersection_over_union: nan - ouput_reg_accuracy: 0.4849 - ouput_reg_intersection_over_union: -0.0265 - val_loss: 0.1766 - val_ouput_clf_loss: 0.3509 - val_ouput_reg_loss: 0.0023 - val_ouput_clf_accuracy: 0.9286 - val_ouput_clf_intersection_over_union: nan - val_ouput_reg_accuracy: 0.5213 - val_ouput_reg_intersection_over_union: 0.0091\n",
      "Epoch 64/100\n",
      "490/490 [==============================] - 4s 7ms/step - loss: 0.2410 - ouput_clf_loss: 0.4781 - ouput_reg_loss: 0.0040 - ouput_clf_accuracy: 0.8617 - ouput_clf_intersection_over_union: nan - ouput_reg_accuracy: 0.4957 - ouput_reg_intersection_over_union: 0.0120 - val_loss: 0.1963 - val_ouput_clf_loss: 0.3894 - val_ouput_reg_loss: 0.0033 - val_ouput_clf_accuracy: 0.9151 - val_ouput_clf_intersection_over_union: nan - val_ouput_reg_accuracy: 0.4000 - val_ouput_reg_intersection_over_union: 0.0038\n",
      "Epoch 65/100\n",
      "490/490 [==============================] - 4s 7ms/step - loss: 0.2446 - ouput_clf_loss: 0.4593 - ouput_reg_loss: 0.0298 - ouput_clf_accuracy: 0.8655 - ouput_clf_intersection_over_union: nan - ouput_reg_accuracy: 0.4927 - ouput_reg_intersection_over_union: -0.0060 - val_loss: 0.1804 - val_ouput_clf_loss: 0.3588 - val_ouput_reg_loss: 0.0019 - val_ouput_clf_accuracy: 0.9256 - val_ouput_clf_intersection_over_union: nan - val_ouput_reg_accuracy: 0.5557 - val_ouput_reg_intersection_over_union: -1.1738e-04\n",
      "Epoch 66/100\n",
      "490/490 [==============================] - 4s 7ms/step - loss: 0.2422 - ouput_clf_loss: 0.4734 - ouput_reg_loss: 0.0110 - ouput_clf_accuracy: 0.8612 - ouput_clf_intersection_over_union: nan - ouput_reg_accuracy: 0.5180 - ouput_reg_intersection_over_union: 0.0070 - val_loss: 0.1987 - val_ouput_clf_loss: 0.3671 - val_ouput_reg_loss: 0.0302 - val_ouput_clf_accuracy: 0.9184 - val_ouput_clf_intersection_over_union: nan - val_ouput_reg_accuracy: 0.6140 - val_ouput_reg_intersection_over_union: 0.0039\n",
      "Epoch 67/100\n",
      "490/490 [==============================] - 4s 7ms/step - loss: 0.2411 - ouput_clf_loss: 0.4687 - ouput_reg_loss: 0.0135 - ouput_clf_accuracy: 0.8620 - ouput_clf_intersection_over_union: nan - ouput_reg_accuracy: 0.5028 - ouput_reg_intersection_over_union: 0.0472 - val_loss: 0.1709 - val_ouput_clf_loss: 0.3391 - val_ouput_reg_loss: 0.0027 - val_ouput_clf_accuracy: 0.9300 - val_ouput_clf_intersection_over_union: nan - val_ouput_reg_accuracy: 0.6003 - val_ouput_reg_intersection_over_union: -0.1155\n",
      "Epoch 68/100\n",
      "490/490 [==============================] - 4s 7ms/step - loss: 0.2415 - ouput_clf_loss: 0.4660 - ouput_reg_loss: 0.0169 - ouput_clf_accuracy: 0.8638 - ouput_clf_intersection_over_union: nan - ouput_reg_accuracy: 0.4803 - ouput_reg_intersection_over_union: -0.0697 - val_loss: 0.1733 - val_ouput_clf_loss: 0.3450 - val_ouput_reg_loss: 0.0016 - val_ouput_clf_accuracy: 0.9324 - val_ouput_clf_intersection_over_union: nan - val_ouput_reg_accuracy: 0.4434 - val_ouput_reg_intersection_over_union: 0.0159\n",
      "Epoch 69/100\n",
      "490/490 [==============================] - 4s 7ms/step - loss: 0.2432 - ouput_clf_loss: 0.4605 - ouput_reg_loss: 0.0258 - ouput_clf_accuracy: 0.8648 - ouput_clf_intersection_over_union: nan - ouput_reg_accuracy: 0.4946 - ouput_reg_intersection_over_union: 0.0062 - val_loss: 0.1657 - val_ouput_clf_loss: 0.3261 - val_ouput_reg_loss: 0.0053 - val_ouput_clf_accuracy: 0.9316 - val_ouput_clf_intersection_over_union: nan - val_ouput_reg_accuracy: 0.4189 - val_ouput_reg_intersection_over_union: 1.5690e-04\n",
      "Epoch 70/100\n",
      "490/490 [==============================] - 4s 7ms/step - loss: 0.2349 - ouput_clf_loss: 0.4611 - ouput_reg_loss: 0.0086 - ouput_clf_accuracy: 0.8623 - ouput_clf_intersection_over_union: nan - ouput_reg_accuracy: 0.4951 - ouput_reg_intersection_over_union: 0.0054 - val_loss: 0.1701 - val_ouput_clf_loss: 0.3369 - val_ouput_reg_loss: 0.0033 - val_ouput_clf_accuracy: 0.9343 - val_ouput_clf_intersection_over_union: nan - val_ouput_reg_accuracy: 0.5566 - val_ouput_reg_intersection_over_union: 2.3608e-04\n",
      "Epoch 71/100\n",
      "490/490 [==============================] - 4s 7ms/step - loss: 0.2312 - ouput_clf_loss: 0.4593 - ouput_reg_loss: 0.0030 - ouput_clf_accuracy: 0.8654 - ouput_clf_intersection_over_union: nan - ouput_reg_accuracy: 0.5082 - ouput_reg_intersection_over_union: -0.0011 - val_loss: 0.1713 - val_ouput_clf_loss: 0.3377 - val_ouput_reg_loss: 0.0049 - val_ouput_clf_accuracy: 0.9338 - val_ouput_clf_intersection_over_union: nan - val_ouput_reg_accuracy: 0.6135 - val_ouput_reg_intersection_over_union: 0.0597\n",
      "Epoch 72/100\n",
      "490/490 [==============================] - 4s 7ms/step - loss: 0.2465 - ouput_clf_loss: 0.4639 - ouput_reg_loss: 0.0290 - ouput_clf_accuracy: 0.8659 - ouput_clf_intersection_over_union: nan - ouput_reg_accuracy: 0.4955 - ouput_reg_intersection_over_union: -8.2516e-04 - val_loss: 0.5061 - val_ouput_clf_loss: 0.3670 - val_ouput_reg_loss: 0.6451 - val_ouput_clf_accuracy: 0.9245 - val_ouput_clf_intersection_over_union: nan - val_ouput_reg_accuracy: 0.3862 - val_ouput_reg_intersection_over_union: -0.0017\n",
      "Epoch 73/100\n",
      "490/490 [==============================] - 4s 7ms/step - loss: 0.2383 - ouput_clf_loss: 0.4535 - ouput_reg_loss: 0.0231 - ouput_clf_accuracy: 0.8698 - ouput_clf_intersection_over_union: nan - ouput_reg_accuracy: 0.4994 - ouput_reg_intersection_over_union: 0.0047 - val_loss: 0.1789 - val_ouput_clf_loss: 0.3564 - val_ouput_reg_loss: 0.0014 - val_ouput_clf_accuracy: 0.9277 - val_ouput_clf_intersection_over_union: nan - val_ouput_reg_accuracy: 0.3770 - val_ouput_reg_intersection_over_union: 1.3908e-05\n",
      "Epoch 74/100\n",
      "490/490 [==============================] - 4s 7ms/step - loss: 0.2407 - ouput_clf_loss: 0.4648 - ouput_reg_loss: 0.0166 - ouput_clf_accuracy: 0.8629 - ouput_clf_intersection_over_union: nan - ouput_reg_accuracy: 0.5026 - ouput_reg_intersection_over_union: 0.0021 - val_loss: 0.1721 - val_ouput_clf_loss: 0.3373 - val_ouput_reg_loss: 0.0070 - val_ouput_clf_accuracy: 0.9321 - val_ouput_clf_intersection_over_union: nan - val_ouput_reg_accuracy: 0.5939 - val_ouput_reg_intersection_over_union: 0.0090\n",
      "Epoch 75/100\n",
      "490/490 [==============================] - 4s 7ms/step - loss: 0.2167 - ouput_clf_loss: 0.4290 - ouput_reg_loss: 0.0044 - ouput_clf_accuracy: 0.8706 - ouput_clf_intersection_over_union: nan - ouput_reg_accuracy: 0.5080 - ouput_reg_intersection_over_union: 0.0057 - val_loss: 0.1742 - val_ouput_clf_loss: 0.3465 - val_ouput_reg_loss: 0.0019 - val_ouput_clf_accuracy: 0.9316 - val_ouput_clf_intersection_over_union: nan - val_ouput_reg_accuracy: 0.6138 - val_ouput_reg_intersection_over_union: 0.0036\n",
      "Epoch 76/100\n",
      "490/490 [==============================] - 4s 7ms/step - loss: 0.3201 - ouput_clf_loss: 0.5234 - ouput_reg_loss: 0.1168 - ouput_clf_accuracy: 0.8438 - ouput_clf_intersection_over_union: nan - ouput_reg_accuracy: 0.4967 - ouput_reg_intersection_over_union: 0.0028 - val_loss: 0.1723 - val_ouput_clf_loss: 0.3420 - val_ouput_reg_loss: 0.0027 - val_ouput_clf_accuracy: 0.9301 - val_ouput_clf_intersection_over_union: nan - val_ouput_reg_accuracy: 0.4926 - val_ouput_reg_intersection_over_union: 0.0090\n",
      "Epoch 77/100\n",
      "490/490 [==============================] - 4s 7ms/step - loss: 0.2305 - ouput_clf_loss: 0.4592 - ouput_reg_loss: 0.0017 - ouput_clf_accuracy: 0.8624 - ouput_clf_intersection_over_union: nan - ouput_reg_accuracy: 0.5098 - ouput_reg_intersection_over_union: 0.0026 - val_loss: 0.1765 - val_ouput_clf_loss: 0.3510 - val_ouput_reg_loss: 0.0020 - val_ouput_clf_accuracy: 0.9301 - val_ouput_clf_intersection_over_union: nan - val_ouput_reg_accuracy: 0.4158 - val_ouput_reg_intersection_over_union: -1.0584e-04\n",
      "Epoch 78/100\n",
      "490/490 [==============================] - 4s 7ms/step - loss: 0.2302 - ouput_clf_loss: 0.4425 - ouput_reg_loss: 0.0179 - ouput_clf_accuracy: 0.8669 - ouput_clf_intersection_over_union: nan - ouput_reg_accuracy: 0.5056 - ouput_reg_intersection_over_union: 0.0036 - val_loss: 0.1742 - val_ouput_clf_loss: 0.3471 - val_ouput_reg_loss: 0.0013 - val_ouput_clf_accuracy: 0.9334 - val_ouput_clf_intersection_over_union: nan - val_ouput_reg_accuracy: 0.6261 - val_ouput_reg_intersection_over_union: -0.0043\n",
      "Epoch 79/100\n",
      "490/490 [==============================] - 4s 7ms/step - loss: 0.2271 - ouput_clf_loss: 0.4523 - ouput_reg_loss: 0.0019 - ouput_clf_accuracy: 0.8675 - ouput_clf_intersection_over_union: nan - ouput_reg_accuracy: 0.5313 - ouput_reg_intersection_over_union: 0.0037 - val_loss: 0.1675 - val_ouput_clf_loss: 0.3334 - val_ouput_reg_loss: 0.0016 - val_ouput_clf_accuracy: 0.9358 - val_ouput_clf_intersection_over_union: nan - val_ouput_reg_accuracy: 0.5508 - val_ouput_reg_intersection_over_union: 0.0013\n",
      "Epoch 80/100\n",
      "490/490 [==============================] - 4s 7ms/step - loss: 0.2334 - ouput_clf_loss: 0.4649 - ouput_reg_loss: 0.0019 - ouput_clf_accuracy: 0.8675 - ouput_clf_intersection_over_union: nan - ouput_reg_accuracy: 0.5261 - ouput_reg_intersection_over_union: -0.0087 - val_loss: 0.1942 - val_ouput_clf_loss: 0.3866 - val_ouput_reg_loss: 0.0017 - val_ouput_clf_accuracy: 0.9263 - val_ouput_clf_intersection_over_union: nan - val_ouput_reg_accuracy: 0.4653 - val_ouput_reg_intersection_over_union: 0.0375\n",
      "Epoch 81/100\n",
      "490/490 [==============================] - 4s 7ms/step - loss: 0.2627 - ouput_clf_loss: 0.4613 - ouput_reg_loss: 0.0641 - ouput_clf_accuracy: 0.8655 - ouput_clf_intersection_over_union: nan - ouput_reg_accuracy: 0.4975 - ouput_reg_intersection_over_union: 0.0141 - val_loss: 0.1813 - val_ouput_clf_loss: 0.3613 - val_ouput_reg_loss: 0.0012 - val_ouput_clf_accuracy: 0.9236 - val_ouput_clf_intersection_over_union: nan - val_ouput_reg_accuracy: 0.4684 - val_ouput_reg_intersection_over_union: 0.0025\n",
      "Epoch 82/100\n",
      "490/490 [==============================] - 4s 7ms/step - loss: 0.2217 - ouput_clf_loss: 0.4410 - ouput_reg_loss: 0.0023 - ouput_clf_accuracy: 0.8694 - ouput_clf_intersection_over_union: nan - ouput_reg_accuracy: 0.5040 - ouput_reg_intersection_over_union: -0.0027 - val_loss: 0.2026 - val_ouput_clf_loss: 0.4021 - val_ouput_reg_loss: 0.0031 - val_ouput_clf_accuracy: 0.9217 - val_ouput_clf_intersection_over_union: nan - val_ouput_reg_accuracy: 0.5179 - val_ouput_reg_intersection_over_union: 0.0251\n",
      "Epoch 83/100\n",
      "490/490 [==============================] - 4s 7ms/step - loss: 0.2329 - ouput_clf_loss: 0.4534 - ouput_reg_loss: 0.0125 - ouput_clf_accuracy: 0.8674 - ouput_clf_intersection_over_union: nan - ouput_reg_accuracy: 0.5078 - ouput_reg_intersection_over_union: -0.0058 - val_loss: 0.1709 - val_ouput_clf_loss: 0.3351 - val_ouput_reg_loss: 0.0067 - val_ouput_clf_accuracy: 0.9342 - val_ouput_clf_intersection_over_union: nan - val_ouput_reg_accuracy: 0.5950 - val_ouput_reg_intersection_over_union: -0.0012\n",
      "Epoch 84/100\n",
      "490/490 [==============================] - 4s 7ms/step - loss: 0.2380 - ouput_clf_loss: 0.4416 - ouput_reg_loss: 0.0344 - ouput_clf_accuracy: 0.8688 - ouput_clf_intersection_over_union: nan - ouput_reg_accuracy: 0.5224 - ouput_reg_intersection_over_union: 0.0153 - val_loss: 0.1823 - val_ouput_clf_loss: 0.3523 - val_ouput_reg_loss: 0.0123 - val_ouput_clf_accuracy: 0.9342 - val_ouput_clf_intersection_over_union: nan - val_ouput_reg_accuracy: 0.5159 - val_ouput_reg_intersection_over_union: -0.0152\n",
      "Epoch 85/100\n",
      "490/490 [==============================] - 4s 7ms/step - loss: 0.2166 - ouput_clf_loss: 0.4308 - ouput_reg_loss: 0.0025 - ouput_clf_accuracy: 0.8727 - ouput_clf_intersection_over_union: nan - ouput_reg_accuracy: 0.5420 - ouput_reg_intersection_over_union: 0.0107 - val_loss: 0.1676 - val_ouput_clf_loss: 0.3294 - val_ouput_reg_loss: 0.0058 - val_ouput_clf_accuracy: 0.9380 - val_ouput_clf_intersection_over_union: nan - val_ouput_reg_accuracy: 0.3866 - val_ouput_reg_intersection_over_union: -0.0068\n",
      "Epoch 86/100\n",
      "490/490 [==============================] - 4s 7ms/step - loss: 0.2201 - ouput_clf_loss: 0.4307 - ouput_reg_loss: 0.0095 - ouput_clf_accuracy: 0.8717 - ouput_clf_intersection_over_union: nan - ouput_reg_accuracy: 0.4992 - ouput_reg_intersection_over_union: -0.0014 - val_loss: 0.2020 - val_ouput_clf_loss: 0.3502 - val_ouput_reg_loss: 0.0537 - val_ouput_clf_accuracy: 0.9335 - val_ouput_clf_intersection_over_union: nan - val_ouput_reg_accuracy: 0.5895 - val_ouput_reg_intersection_over_union: 0.0018\n",
      "Epoch 87/100\n",
      "490/490 [==============================] - 4s 7ms/step - loss: 0.2557 - ouput_clf_loss: 0.4663 - ouput_reg_loss: 0.0451 - ouput_clf_accuracy: 0.8637 - ouput_clf_intersection_over_union: nan - ouput_reg_accuracy: 0.4814 - ouput_reg_intersection_over_union: 0.0046 - val_loss: 0.1820 - val_ouput_clf_loss: 0.3607 - val_ouput_reg_loss: 0.0034 - val_ouput_clf_accuracy: 0.9332 - val_ouput_clf_intersection_over_union: nan - val_ouput_reg_accuracy: 0.4527 - val_ouput_reg_intersection_over_union: -0.0387\n",
      "Epoch 88/100\n",
      "296/490 [=================>............] - ETA: 1s - loss: 0.2164 - ouput_clf_loss: 0.4206 - ouput_reg_loss: 0.0121 - ouput_clf_accuracy: 0.8750 - ouput_clf_intersection_over_union: nan - ouput_reg_accuracy: 0.4804 - ouput_reg_intersection_over_union: -0.0136"
     ]
    },
    {
     "ename": "KeyboardInterrupt",
     "evalue": "ignored",
     "output_type": "error",
     "traceback": [
      "\u001b[0;31m---------------------------------------------------------------------------\u001b[0m",
      "\u001b[0;31mKeyboardInterrupt\u001b[0m                         Traceback (most recent call last)",
      "\u001b[0;32m<ipython-input-78-2b917104664f>\u001b[0m in \u001b[0;36m<module>\u001b[0;34m()\u001b[0m\n\u001b[1;32m      1\u001b[0m model.fit(ds_train, \n\u001b[1;32m      2\u001b[0m           \u001b[0mvalidation_data\u001b[0m\u001b[0;34m=\u001b[0m\u001b[0mds_test\u001b[0m\u001b[0;34m,\u001b[0m\u001b[0;34m\u001b[0m\u001b[0;34m\u001b[0m\u001b[0m\n\u001b[0;32m----> 3\u001b[0;31m           epochs=100)\n\u001b[0m",
      "\u001b[0;32m/usr/local/lib/python3.7/dist-packages/tensorflow/python/keras/engine/training.py\u001b[0m in \u001b[0;36mfit\u001b[0;34m(self, x, y, batch_size, epochs, verbose, callbacks, validation_split, validation_data, shuffle, class_weight, sample_weight, initial_epoch, steps_per_epoch, validation_steps, validation_batch_size, validation_freq, max_queue_size, workers, use_multiprocessing)\u001b[0m\n\u001b[1;32m   1103\u001b[0m               \u001b[0mlogs\u001b[0m \u001b[0;34m=\u001b[0m \u001b[0mtmp_logs\u001b[0m  \u001b[0;31m# No error, now safe to assign to logs.\u001b[0m\u001b[0;34m\u001b[0m\u001b[0;34m\u001b[0m\u001b[0m\n\u001b[1;32m   1104\u001b[0m               \u001b[0mend_step\u001b[0m \u001b[0;34m=\u001b[0m \u001b[0mstep\u001b[0m \u001b[0;34m+\u001b[0m \u001b[0mdata_handler\u001b[0m\u001b[0;34m.\u001b[0m\u001b[0mstep_increment\u001b[0m\u001b[0;34m\u001b[0m\u001b[0;34m\u001b[0m\u001b[0m\n\u001b[0;32m-> 1105\u001b[0;31m               \u001b[0mcallbacks\u001b[0m\u001b[0;34m.\u001b[0m\u001b[0mon_train_batch_end\u001b[0m\u001b[0;34m(\u001b[0m\u001b[0mend_step\u001b[0m\u001b[0;34m,\u001b[0m \u001b[0mlogs\u001b[0m\u001b[0;34m)\u001b[0m\u001b[0;34m\u001b[0m\u001b[0;34m\u001b[0m\u001b[0m\n\u001b[0m\u001b[1;32m   1106\u001b[0m               \u001b[0;32mif\u001b[0m \u001b[0mself\u001b[0m\u001b[0;34m.\u001b[0m\u001b[0mstop_training\u001b[0m\u001b[0;34m:\u001b[0m\u001b[0;34m\u001b[0m\u001b[0;34m\u001b[0m\u001b[0m\n\u001b[1;32m   1107\u001b[0m                 \u001b[0;32mbreak\u001b[0m\u001b[0;34m\u001b[0m\u001b[0;34m\u001b[0m\u001b[0m\n",
      "\u001b[0;32m/usr/local/lib/python3.7/dist-packages/tensorflow/python/keras/callbacks.py\u001b[0m in \u001b[0;36mon_train_batch_end\u001b[0;34m(self, batch, logs)\u001b[0m\n\u001b[1;32m    452\u001b[0m     \"\"\"\n\u001b[1;32m    453\u001b[0m     \u001b[0;32mif\u001b[0m \u001b[0mself\u001b[0m\u001b[0;34m.\u001b[0m\u001b[0m_should_call_train_batch_hooks\u001b[0m\u001b[0;34m:\u001b[0m\u001b[0;34m\u001b[0m\u001b[0;34m\u001b[0m\u001b[0m\n\u001b[0;32m--> 454\u001b[0;31m       \u001b[0mself\u001b[0m\u001b[0;34m.\u001b[0m\u001b[0m_call_batch_hook\u001b[0m\u001b[0;34m(\u001b[0m\u001b[0mModeKeys\u001b[0m\u001b[0;34m.\u001b[0m\u001b[0mTRAIN\u001b[0m\u001b[0;34m,\u001b[0m \u001b[0;34m'end'\u001b[0m\u001b[0;34m,\u001b[0m \u001b[0mbatch\u001b[0m\u001b[0;34m,\u001b[0m \u001b[0mlogs\u001b[0m\u001b[0;34m=\u001b[0m\u001b[0mlogs\u001b[0m\u001b[0;34m)\u001b[0m\u001b[0;34m\u001b[0m\u001b[0;34m\u001b[0m\u001b[0m\n\u001b[0m\u001b[1;32m    455\u001b[0m \u001b[0;34m\u001b[0m\u001b[0m\n\u001b[1;32m    456\u001b[0m   \u001b[0;32mdef\u001b[0m \u001b[0mon_test_batch_begin\u001b[0m\u001b[0;34m(\u001b[0m\u001b[0mself\u001b[0m\u001b[0;34m,\u001b[0m \u001b[0mbatch\u001b[0m\u001b[0;34m,\u001b[0m \u001b[0mlogs\u001b[0m\u001b[0;34m=\u001b[0m\u001b[0;32mNone\u001b[0m\u001b[0;34m)\u001b[0m\u001b[0;34m:\u001b[0m\u001b[0;34m\u001b[0m\u001b[0;34m\u001b[0m\u001b[0m\n",
      "\u001b[0;32m/usr/local/lib/python3.7/dist-packages/tensorflow/python/keras/callbacks.py\u001b[0m in \u001b[0;36m_call_batch_hook\u001b[0;34m(self, mode, hook, batch, logs)\u001b[0m\n\u001b[1;32m    294\u001b[0m       \u001b[0mself\u001b[0m\u001b[0;34m.\u001b[0m\u001b[0m_call_batch_begin_hook\u001b[0m\u001b[0;34m(\u001b[0m\u001b[0mmode\u001b[0m\u001b[0;34m,\u001b[0m \u001b[0mbatch\u001b[0m\u001b[0;34m,\u001b[0m \u001b[0mlogs\u001b[0m\u001b[0;34m)\u001b[0m\u001b[0;34m\u001b[0m\u001b[0;34m\u001b[0m\u001b[0m\n\u001b[1;32m    295\u001b[0m     \u001b[0;32melif\u001b[0m \u001b[0mhook\u001b[0m \u001b[0;34m==\u001b[0m \u001b[0;34m'end'\u001b[0m\u001b[0;34m:\u001b[0m\u001b[0;34m\u001b[0m\u001b[0;34m\u001b[0m\u001b[0m\n\u001b[0;32m--> 296\u001b[0;31m       \u001b[0mself\u001b[0m\u001b[0;34m.\u001b[0m\u001b[0m_call_batch_end_hook\u001b[0m\u001b[0;34m(\u001b[0m\u001b[0mmode\u001b[0m\u001b[0;34m,\u001b[0m \u001b[0mbatch\u001b[0m\u001b[0;34m,\u001b[0m \u001b[0mlogs\u001b[0m\u001b[0;34m)\u001b[0m\u001b[0;34m\u001b[0m\u001b[0;34m\u001b[0m\u001b[0m\n\u001b[0m\u001b[1;32m    297\u001b[0m     \u001b[0;32melse\u001b[0m\u001b[0;34m:\u001b[0m\u001b[0;34m\u001b[0m\u001b[0;34m\u001b[0m\u001b[0m\n\u001b[1;32m    298\u001b[0m       \u001b[0;32mraise\u001b[0m \u001b[0mValueError\u001b[0m\u001b[0;34m(\u001b[0m\u001b[0;34m'Unrecognized hook: {}'\u001b[0m\u001b[0;34m.\u001b[0m\u001b[0mformat\u001b[0m\u001b[0;34m(\u001b[0m\u001b[0mhook\u001b[0m\u001b[0;34m)\u001b[0m\u001b[0;34m)\u001b[0m\u001b[0;34m\u001b[0m\u001b[0;34m\u001b[0m\u001b[0m\n",
      "\u001b[0;32m/usr/local/lib/python3.7/dist-packages/tensorflow/python/keras/callbacks.py\u001b[0m in \u001b[0;36m_call_batch_end_hook\u001b[0;34m(self, mode, batch, logs)\u001b[0m\n\u001b[1;32m    314\u001b[0m       \u001b[0mself\u001b[0m\u001b[0;34m.\u001b[0m\u001b[0m_batch_times\u001b[0m\u001b[0;34m.\u001b[0m\u001b[0mappend\u001b[0m\u001b[0;34m(\u001b[0m\u001b[0mbatch_time\u001b[0m\u001b[0;34m)\u001b[0m\u001b[0;34m\u001b[0m\u001b[0;34m\u001b[0m\u001b[0m\n\u001b[1;32m    315\u001b[0m \u001b[0;34m\u001b[0m\u001b[0m\n\u001b[0;32m--> 316\u001b[0;31m     \u001b[0mself\u001b[0m\u001b[0;34m.\u001b[0m\u001b[0m_call_batch_hook_helper\u001b[0m\u001b[0;34m(\u001b[0m\u001b[0mhook_name\u001b[0m\u001b[0;34m,\u001b[0m \u001b[0mbatch\u001b[0m\u001b[0;34m,\u001b[0m \u001b[0mlogs\u001b[0m\u001b[0;34m)\u001b[0m\u001b[0;34m\u001b[0m\u001b[0;34m\u001b[0m\u001b[0m\n\u001b[0m\u001b[1;32m    317\u001b[0m \u001b[0;34m\u001b[0m\u001b[0m\n\u001b[1;32m    318\u001b[0m     \u001b[0;32mif\u001b[0m \u001b[0mlen\u001b[0m\u001b[0;34m(\u001b[0m\u001b[0mself\u001b[0m\u001b[0;34m.\u001b[0m\u001b[0m_batch_times\u001b[0m\u001b[0;34m)\u001b[0m \u001b[0;34m>=\u001b[0m \u001b[0mself\u001b[0m\u001b[0;34m.\u001b[0m\u001b[0m_num_batches_for_timing_check\u001b[0m\u001b[0;34m:\u001b[0m\u001b[0;34m\u001b[0m\u001b[0;34m\u001b[0m\u001b[0m\n",
      "\u001b[0;32m/usr/local/lib/python3.7/dist-packages/tensorflow/python/keras/callbacks.py\u001b[0m in \u001b[0;36m_call_batch_hook_helper\u001b[0;34m(self, hook_name, batch, logs)\u001b[0m\n\u001b[1;32m    354\u001b[0m       \u001b[0mhook\u001b[0m \u001b[0;34m=\u001b[0m \u001b[0mgetattr\u001b[0m\u001b[0;34m(\u001b[0m\u001b[0mcallback\u001b[0m\u001b[0;34m,\u001b[0m \u001b[0mhook_name\u001b[0m\u001b[0;34m)\u001b[0m\u001b[0;34m\u001b[0m\u001b[0;34m\u001b[0m\u001b[0m\n\u001b[1;32m    355\u001b[0m       \u001b[0;32mif\u001b[0m \u001b[0mgetattr\u001b[0m\u001b[0;34m(\u001b[0m\u001b[0mcallback\u001b[0m\u001b[0;34m,\u001b[0m \u001b[0;34m'_supports_tf_logs'\u001b[0m\u001b[0;34m,\u001b[0m \u001b[0;32mFalse\u001b[0m\u001b[0;34m)\u001b[0m\u001b[0;34m:\u001b[0m\u001b[0;34m\u001b[0m\u001b[0;34m\u001b[0m\u001b[0m\n\u001b[0;32m--> 356\u001b[0;31m         \u001b[0mhook\u001b[0m\u001b[0;34m(\u001b[0m\u001b[0mbatch\u001b[0m\u001b[0;34m,\u001b[0m \u001b[0mlogs\u001b[0m\u001b[0;34m)\u001b[0m\u001b[0;34m\u001b[0m\u001b[0;34m\u001b[0m\u001b[0m\n\u001b[0m\u001b[1;32m    357\u001b[0m       \u001b[0;32melse\u001b[0m\u001b[0;34m:\u001b[0m\u001b[0;34m\u001b[0m\u001b[0;34m\u001b[0m\u001b[0m\n\u001b[1;32m    358\u001b[0m         \u001b[0;32mif\u001b[0m \u001b[0mnumpy_logs\u001b[0m \u001b[0;32mis\u001b[0m \u001b[0;32mNone\u001b[0m\u001b[0;34m:\u001b[0m  \u001b[0;31m# Only convert once.\u001b[0m\u001b[0;34m\u001b[0m\u001b[0;34m\u001b[0m\u001b[0m\n",
      "\u001b[0;32m/usr/local/lib/python3.7/dist-packages/tensorflow/python/keras/callbacks.py\u001b[0m in \u001b[0;36mon_train_batch_end\u001b[0;34m(self, batch, logs)\u001b[0m\n\u001b[1;32m   1018\u001b[0m \u001b[0;34m\u001b[0m\u001b[0m\n\u001b[1;32m   1019\u001b[0m   \u001b[0;32mdef\u001b[0m \u001b[0mon_train_batch_end\u001b[0m\u001b[0;34m(\u001b[0m\u001b[0mself\u001b[0m\u001b[0;34m,\u001b[0m \u001b[0mbatch\u001b[0m\u001b[0;34m,\u001b[0m \u001b[0mlogs\u001b[0m\u001b[0;34m=\u001b[0m\u001b[0;32mNone\u001b[0m\u001b[0;34m)\u001b[0m\u001b[0;34m:\u001b[0m\u001b[0;34m\u001b[0m\u001b[0;34m\u001b[0m\u001b[0m\n\u001b[0;32m-> 1020\u001b[0;31m     \u001b[0mself\u001b[0m\u001b[0;34m.\u001b[0m\u001b[0m_batch_update_progbar\u001b[0m\u001b[0;34m(\u001b[0m\u001b[0mbatch\u001b[0m\u001b[0;34m,\u001b[0m \u001b[0mlogs\u001b[0m\u001b[0;34m)\u001b[0m\u001b[0;34m\u001b[0m\u001b[0;34m\u001b[0m\u001b[0m\n\u001b[0m\u001b[1;32m   1021\u001b[0m \u001b[0;34m\u001b[0m\u001b[0m\n\u001b[1;32m   1022\u001b[0m   \u001b[0;32mdef\u001b[0m \u001b[0mon_test_batch_end\u001b[0m\u001b[0;34m(\u001b[0m\u001b[0mself\u001b[0m\u001b[0;34m,\u001b[0m \u001b[0mbatch\u001b[0m\u001b[0;34m,\u001b[0m \u001b[0mlogs\u001b[0m\u001b[0;34m=\u001b[0m\u001b[0;32mNone\u001b[0m\u001b[0;34m)\u001b[0m\u001b[0;34m:\u001b[0m\u001b[0;34m\u001b[0m\u001b[0;34m\u001b[0m\u001b[0m\n",
      "\u001b[0;32m/usr/local/lib/python3.7/dist-packages/tensorflow/python/keras/callbacks.py\u001b[0m in \u001b[0;36m_batch_update_progbar\u001b[0;34m(self, batch, logs)\u001b[0m\n\u001b[1;32m   1082\u001b[0m     \u001b[0;32mif\u001b[0m \u001b[0mself\u001b[0m\u001b[0;34m.\u001b[0m\u001b[0mverbose\u001b[0m \u001b[0;34m==\u001b[0m \u001b[0;36m1\u001b[0m\u001b[0;34m:\u001b[0m\u001b[0;34m\u001b[0m\u001b[0;34m\u001b[0m\u001b[0m\n\u001b[1;32m   1083\u001b[0m       \u001b[0;31m# Only block async when verbose = 1.\u001b[0m\u001b[0;34m\u001b[0m\u001b[0;34m\u001b[0m\u001b[0;34m\u001b[0m\u001b[0m\n\u001b[0;32m-> 1084\u001b[0;31m       \u001b[0mlogs\u001b[0m \u001b[0;34m=\u001b[0m \u001b[0mtf_utils\u001b[0m\u001b[0;34m.\u001b[0m\u001b[0mto_numpy_or_python_type\u001b[0m\u001b[0;34m(\u001b[0m\u001b[0mlogs\u001b[0m\u001b[0;34m)\u001b[0m\u001b[0;34m\u001b[0m\u001b[0;34m\u001b[0m\u001b[0m\n\u001b[0m\u001b[1;32m   1085\u001b[0m       \u001b[0mself\u001b[0m\u001b[0;34m.\u001b[0m\u001b[0mprogbar\u001b[0m\u001b[0;34m.\u001b[0m\u001b[0mupdate\u001b[0m\u001b[0;34m(\u001b[0m\u001b[0mself\u001b[0m\u001b[0;34m.\u001b[0m\u001b[0mseen\u001b[0m\u001b[0;34m,\u001b[0m \u001b[0mlist\u001b[0m\u001b[0;34m(\u001b[0m\u001b[0mlogs\u001b[0m\u001b[0;34m.\u001b[0m\u001b[0mitems\u001b[0m\u001b[0;34m(\u001b[0m\u001b[0;34m)\u001b[0m\u001b[0;34m)\u001b[0m\u001b[0;34m,\u001b[0m \u001b[0mfinalize\u001b[0m\u001b[0;34m=\u001b[0m\u001b[0;32mFalse\u001b[0m\u001b[0;34m)\u001b[0m\u001b[0;34m\u001b[0m\u001b[0;34m\u001b[0m\u001b[0m\n\u001b[1;32m   1086\u001b[0m \u001b[0;34m\u001b[0m\u001b[0m\n",
      "\u001b[0;32m/usr/local/lib/python3.7/dist-packages/tensorflow/python/keras/utils/tf_utils.py\u001b[0m in \u001b[0;36mto_numpy_or_python_type\u001b[0;34m(tensors)\u001b[0m\n\u001b[1;32m    512\u001b[0m     \u001b[0;32mreturn\u001b[0m \u001b[0mt\u001b[0m  \u001b[0;31m# Don't turn ragged or sparse tensors to NumPy.\u001b[0m\u001b[0;34m\u001b[0m\u001b[0;34m\u001b[0m\u001b[0m\n\u001b[1;32m    513\u001b[0m \u001b[0;34m\u001b[0m\u001b[0m\n\u001b[0;32m--> 514\u001b[0;31m   \u001b[0;32mreturn\u001b[0m \u001b[0mnest\u001b[0m\u001b[0;34m.\u001b[0m\u001b[0mmap_structure\u001b[0m\u001b[0;34m(\u001b[0m\u001b[0m_to_single_numpy_or_python_type\u001b[0m\u001b[0;34m,\u001b[0m \u001b[0mtensors\u001b[0m\u001b[0;34m)\u001b[0m\u001b[0;34m\u001b[0m\u001b[0;34m\u001b[0m\u001b[0m\n\u001b[0m\u001b[1;32m    515\u001b[0m \u001b[0;34m\u001b[0m\u001b[0m\n\u001b[1;32m    516\u001b[0m \u001b[0;34m\u001b[0m\u001b[0m\n",
      "\u001b[0;32m/usr/local/lib/python3.7/dist-packages/tensorflow/python/util/nest.py\u001b[0m in \u001b[0;36mmap_structure\u001b[0;34m(func, *structure, **kwargs)\u001b[0m\n\u001b[1;32m    657\u001b[0m \u001b[0;34m\u001b[0m\u001b[0m\n\u001b[1;32m    658\u001b[0m   return pack_sequence_as(\n\u001b[0;32m--> 659\u001b[0;31m       \u001b[0mstructure\u001b[0m\u001b[0;34m[\u001b[0m\u001b[0;36m0\u001b[0m\u001b[0;34m]\u001b[0m\u001b[0;34m,\u001b[0m \u001b[0;34m[\u001b[0m\u001b[0mfunc\u001b[0m\u001b[0;34m(\u001b[0m\u001b[0;34m*\u001b[0m\u001b[0mx\u001b[0m\u001b[0;34m)\u001b[0m \u001b[0;32mfor\u001b[0m \u001b[0mx\u001b[0m \u001b[0;32min\u001b[0m \u001b[0mentries\u001b[0m\u001b[0;34m]\u001b[0m\u001b[0;34m,\u001b[0m\u001b[0;34m\u001b[0m\u001b[0;34m\u001b[0m\u001b[0m\n\u001b[0m\u001b[1;32m    660\u001b[0m       expand_composites=expand_composites)\n\u001b[1;32m    661\u001b[0m \u001b[0;34m\u001b[0m\u001b[0m\n",
      "\u001b[0;32m/usr/local/lib/python3.7/dist-packages/tensorflow/python/util/nest.py\u001b[0m in \u001b[0;36m<listcomp>\u001b[0;34m(.0)\u001b[0m\n\u001b[1;32m    657\u001b[0m \u001b[0;34m\u001b[0m\u001b[0m\n\u001b[1;32m    658\u001b[0m   return pack_sequence_as(\n\u001b[0;32m--> 659\u001b[0;31m       \u001b[0mstructure\u001b[0m\u001b[0;34m[\u001b[0m\u001b[0;36m0\u001b[0m\u001b[0;34m]\u001b[0m\u001b[0;34m,\u001b[0m \u001b[0;34m[\u001b[0m\u001b[0mfunc\u001b[0m\u001b[0;34m(\u001b[0m\u001b[0;34m*\u001b[0m\u001b[0mx\u001b[0m\u001b[0;34m)\u001b[0m \u001b[0;32mfor\u001b[0m \u001b[0mx\u001b[0m \u001b[0;32min\u001b[0m \u001b[0mentries\u001b[0m\u001b[0;34m]\u001b[0m\u001b[0;34m,\u001b[0m\u001b[0;34m\u001b[0m\u001b[0;34m\u001b[0m\u001b[0m\n\u001b[0m\u001b[1;32m    660\u001b[0m       expand_composites=expand_composites)\n\u001b[1;32m    661\u001b[0m \u001b[0;34m\u001b[0m\u001b[0m\n",
      "\u001b[0;32m/usr/local/lib/python3.7/dist-packages/tensorflow/python/keras/utils/tf_utils.py\u001b[0m in \u001b[0;36m_to_single_numpy_or_python_type\u001b[0;34m(t)\u001b[0m\n\u001b[1;32m    508\u001b[0m   \u001b[0;32mdef\u001b[0m \u001b[0m_to_single_numpy_or_python_type\u001b[0m\u001b[0;34m(\u001b[0m\u001b[0mt\u001b[0m\u001b[0;34m)\u001b[0m\u001b[0;34m:\u001b[0m\u001b[0;34m\u001b[0m\u001b[0;34m\u001b[0m\u001b[0m\n\u001b[1;32m    509\u001b[0m     \u001b[0;32mif\u001b[0m \u001b[0misinstance\u001b[0m\u001b[0;34m(\u001b[0m\u001b[0mt\u001b[0m\u001b[0;34m,\u001b[0m \u001b[0mops\u001b[0m\u001b[0;34m.\u001b[0m\u001b[0mTensor\u001b[0m\u001b[0;34m)\u001b[0m\u001b[0;34m:\u001b[0m\u001b[0;34m\u001b[0m\u001b[0;34m\u001b[0m\u001b[0m\n\u001b[0;32m--> 510\u001b[0;31m       \u001b[0mx\u001b[0m \u001b[0;34m=\u001b[0m \u001b[0mt\u001b[0m\u001b[0;34m.\u001b[0m\u001b[0mnumpy\u001b[0m\u001b[0;34m(\u001b[0m\u001b[0;34m)\u001b[0m\u001b[0;34m\u001b[0m\u001b[0;34m\u001b[0m\u001b[0m\n\u001b[0m\u001b[1;32m    511\u001b[0m       \u001b[0;32mreturn\u001b[0m \u001b[0mx\u001b[0m\u001b[0;34m.\u001b[0m\u001b[0mitem\u001b[0m\u001b[0;34m(\u001b[0m\u001b[0;34m)\u001b[0m \u001b[0;32mif\u001b[0m \u001b[0mnp\u001b[0m\u001b[0;34m.\u001b[0m\u001b[0mndim\u001b[0m\u001b[0;34m(\u001b[0m\u001b[0mx\u001b[0m\u001b[0;34m)\u001b[0m \u001b[0;34m==\u001b[0m \u001b[0;36m0\u001b[0m \u001b[0;32melse\u001b[0m \u001b[0mx\u001b[0m\u001b[0;34m\u001b[0m\u001b[0;34m\u001b[0m\u001b[0m\n\u001b[1;32m    512\u001b[0m     \u001b[0;32mreturn\u001b[0m \u001b[0mt\u001b[0m  \u001b[0;31m# Don't turn ragged or sparse tensors to NumPy.\u001b[0m\u001b[0;34m\u001b[0m\u001b[0;34m\u001b[0m\u001b[0m\n",
      "\u001b[0;32m/usr/local/lib/python3.7/dist-packages/tensorflow/python/framework/ops.py\u001b[0m in \u001b[0;36mnumpy\u001b[0;34m(self)\u001b[0m\n\u001b[1;32m   1069\u001b[0m     \"\"\"\n\u001b[1;32m   1070\u001b[0m     \u001b[0;31m# TODO(slebedev): Consider avoiding a copy for non-CPU or remote tensors.\u001b[0m\u001b[0;34m\u001b[0m\u001b[0;34m\u001b[0m\u001b[0;34m\u001b[0m\u001b[0m\n\u001b[0;32m-> 1071\u001b[0;31m     \u001b[0mmaybe_arr\u001b[0m \u001b[0;34m=\u001b[0m \u001b[0mself\u001b[0m\u001b[0;34m.\u001b[0m\u001b[0m_numpy\u001b[0m\u001b[0;34m(\u001b[0m\u001b[0;34m)\u001b[0m  \u001b[0;31m# pylint: disable=protected-access\u001b[0m\u001b[0;34m\u001b[0m\u001b[0;34m\u001b[0m\u001b[0m\n\u001b[0m\u001b[1;32m   1072\u001b[0m     \u001b[0;32mreturn\u001b[0m \u001b[0mmaybe_arr\u001b[0m\u001b[0;34m.\u001b[0m\u001b[0mcopy\u001b[0m\u001b[0;34m(\u001b[0m\u001b[0;34m)\u001b[0m \u001b[0;32mif\u001b[0m \u001b[0misinstance\u001b[0m\u001b[0;34m(\u001b[0m\u001b[0mmaybe_arr\u001b[0m\u001b[0;34m,\u001b[0m \u001b[0mnp\u001b[0m\u001b[0;34m.\u001b[0m\u001b[0mndarray\u001b[0m\u001b[0;34m)\u001b[0m \u001b[0;32melse\u001b[0m \u001b[0mmaybe_arr\u001b[0m\u001b[0;34m\u001b[0m\u001b[0;34m\u001b[0m\u001b[0m\n\u001b[1;32m   1073\u001b[0m \u001b[0;34m\u001b[0m\u001b[0m\n",
      "\u001b[0;32m/usr/local/lib/python3.7/dist-packages/tensorflow/python/framework/ops.py\u001b[0m in \u001b[0;36m_numpy\u001b[0;34m(self)\u001b[0m\n\u001b[1;32m   1035\u001b[0m   \u001b[0;32mdef\u001b[0m \u001b[0m_numpy\u001b[0m\u001b[0;34m(\u001b[0m\u001b[0mself\u001b[0m\u001b[0;34m)\u001b[0m\u001b[0;34m:\u001b[0m\u001b[0;34m\u001b[0m\u001b[0;34m\u001b[0m\u001b[0m\n\u001b[1;32m   1036\u001b[0m     \u001b[0;32mtry\u001b[0m\u001b[0;34m:\u001b[0m\u001b[0;34m\u001b[0m\u001b[0;34m\u001b[0m\u001b[0m\n\u001b[0;32m-> 1037\u001b[0;31m       \u001b[0;32mreturn\u001b[0m \u001b[0mself\u001b[0m\u001b[0;34m.\u001b[0m\u001b[0m_numpy_internal\u001b[0m\u001b[0;34m(\u001b[0m\u001b[0;34m)\u001b[0m\u001b[0;34m\u001b[0m\u001b[0;34m\u001b[0m\u001b[0m\n\u001b[0m\u001b[1;32m   1038\u001b[0m     \u001b[0;32mexcept\u001b[0m \u001b[0mcore\u001b[0m\u001b[0;34m.\u001b[0m\u001b[0m_NotOkStatusException\u001b[0m \u001b[0;32mas\u001b[0m \u001b[0me\u001b[0m\u001b[0;34m:\u001b[0m  \u001b[0;31m# pylint: disable=protected-access\u001b[0m\u001b[0;34m\u001b[0m\u001b[0;34m\u001b[0m\u001b[0m\n\u001b[1;32m   1039\u001b[0m       \u001b[0msix\u001b[0m\u001b[0;34m.\u001b[0m\u001b[0mraise_from\u001b[0m\u001b[0;34m(\u001b[0m\u001b[0mcore\u001b[0m\u001b[0;34m.\u001b[0m\u001b[0m_status_to_exception\u001b[0m\u001b[0;34m(\u001b[0m\u001b[0me\u001b[0m\u001b[0;34m.\u001b[0m\u001b[0mcode\u001b[0m\u001b[0;34m,\u001b[0m \u001b[0me\u001b[0m\u001b[0;34m.\u001b[0m\u001b[0mmessage\u001b[0m\u001b[0;34m)\u001b[0m\u001b[0;34m,\u001b[0m \u001b[0;32mNone\u001b[0m\u001b[0;34m)\u001b[0m  \u001b[0;31m# pylint: disable=protected-access\u001b[0m\u001b[0;34m\u001b[0m\u001b[0;34m\u001b[0m\u001b[0m\n",
      "\u001b[0;31mKeyboardInterrupt\u001b[0m: "
     ]
    }
   ],
   "source": [
    "model.fit(ds_train, \n",
    "          validation_data=ds_test,\n",
    "          epochs=100)"
   ]
  },
  {
   "cell_type": "code",
   "execution_count": null,
   "metadata": {
    "executionInfo": {
     "elapsed": 41407,
     "status": "aborted",
     "timestamp": 1614807279574,
     "user": {
      "displayName": "Thanh Nam NGUYEN",
      "photoUrl": "",
      "userId": "03809949562924165279"
     },
     "user_tz": -60
    },
    "id": "nQSuEvyOAFxU"
   },
   "outputs": [],
   "source": [
    "# EPOCHS = 20 # 45\n",
    "# steps_per_epoch = len(y_train)//64  \n",
    "# validation_steps = len(y_test)//16\n",
    "\n",
    "# #model.fit()\n",
    "# history = model.fit(train_ds, epochs=EPOCHS,\n",
    "#                     steps_per_epoch=steps_per_epoch\n",
    "#                     #validation_data=test_ds, \n",
    "#                     #validation_steps=validation_steps\n",
    "                    )"
   ]
  }
 ],
 "metadata": {
  "accelerator": "GPU",
  "colab": {
   "collapsed_sections": [
    "H8harHIz8z4-",
    "szv9ecfT9CB3",
    "HRzfVDXeAbgR",
    "svGuTuNhAbgU",
    "rfnhDmxNAbgX"
   ],
   "name": "GTSRB-33_refined.ipynb",
   "provenance": []
  },
  "kernelspec": {
   "display_name": "Python 3",
   "language": "python",
   "name": "python3"
  },
  "language_info": {
   "codemirror_mode": {
    "name": "ipython",
    "version": 3
   },
   "file_extension": ".py",
   "mimetype": "text/x-python",
   "name": "python",
   "nbconvert_exporter": "python",
   "pygments_lexer": "ipython3",
   "version": "3.7.10"
  },
  "toc": {
   "base_numbering": 1,
   "nav_menu": {},
   "number_sections": true,
   "sideBar": true,
   "skip_h1_title": false,
   "title_cell": "Table of Contents",
   "title_sidebar": "Contents",
   "toc_cell": false,
   "toc_position": {
    "height": "calc(100% - 180px)",
    "left": "10px",
    "top": "150px",
    "width": "282px"
   },
   "toc_section_display": true,
   "toc_window_display": true
  }
 },
 "nbformat": 4,
 "nbformat_minor": 1
}
