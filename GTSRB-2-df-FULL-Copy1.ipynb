{
 "cells": [
  {
   "cell_type": "markdown",
   "metadata": {
    "heading_collapsed": true
   },
   "source": [
    "# Packages"
   ]
  },
  {
   "cell_type": "code",
   "execution_count": 1,
   "metadata": {
    "executionInfo": {
     "elapsed": 608,
     "status": "ok",
     "timestamp": 1614632889460,
     "user": {
      "displayName": "Thanh Nam NGUYEN",
      "photoUrl": "",
      "userId": "03809949562924165279"
     },
     "user_tz": -60
    },
    "hidden": true,
    "id": "tc3ucthobk58"
   },
   "outputs": [],
   "source": [
    "import numpy as np\n",
    "import pandas as pd\n",
    "import matplotlib.pyplot as plt\n",
    "import seaborn as sns\n",
    "%matplotlib inline\n",
    "\n",
    "\n",
    "import random\n",
    "\n",
    "### Các thư viện I/O, File\n",
    "import os\n",
    "import glob\n",
    "import shutil\n",
    "import zipfile\n",
    "### Các thư viện hình ảnh (bổ sung)\n",
    "import PIL\n",
    "import matplotlib.image as mpimg \n",
    "\n",
    "###################################################\n",
    "import tensorflow as tf\n",
    "\n",
    "\n",
    "from tensorflow.keras.preprocessing import image"
   ]
  },
  {
   "cell_type": "markdown",
   "metadata": {
    "heading_collapsed": true,
    "id": "szv9ecfT9CB3"
   },
   "source": [
    "# Download and Extract data"
   ]
  },
  {
   "cell_type": "code",
   "execution_count": null,
   "metadata": {
    "code_folding": [],
    "executionInfo": {
     "elapsed": 12529,
     "status": "ok",
     "timestamp": 1614630494783,
     "user": {
      "displayName": "Thanh Nam NGUYEN",
      "photoUrl": "",
      "userId": "03809949562924165279"
     },
     "user_tz": -60
    },
    "hidden": true,
    "id": "lc9zexsbXZEE"
   },
   "outputs": [],
   "source": [
    "GTSRB_DATA_URL = \"https://sid.erda.dk/public/archives/daaeac0d7ce1152aea9b61d9f1e19370/GTSRB_Final_Training_Images.zip\"\n",
    "tf.keras.utils.get_file(\n",
    "    fname = 'GTSRB_Final_Training_Images.zip', \n",
    "    origin = GTSRB_DATA_URL, \n",
    "    cache_subdir='datasets', \n",
    "    extract=True\n",
    ")\n",
    "DOWNLOAD_PATH = \"/root/.keras/datasets/\"\n",
    "GTSRB_DATA_PATH = os.path.join(DOWNLOAD_PATH,  \"GTSRB/Final_Training/Images\")"
   ]
  },
  {
   "cell_type": "code",
   "execution_count": 2,
   "metadata": {
    "hidden": true
   },
   "outputs": [],
   "source": [
    "DOWNLOAD_PATH = \"/Users/macintosh/Desktop\"\n",
    "GTSRB_DATA_PATH = os.path.join(DOWNLOAD_PATH,  \"GTSRB/Final_Training/Images\")"
   ]
  },
  {
   "cell_type": "code",
   "execution_count": 3,
   "metadata": {
    "executionInfo": {
     "elapsed": 3696,
     "status": "ok",
     "timestamp": 1614632897796,
     "user": {
      "displayName": "Thanh Nam NGUYEN",
      "photoUrl": "",
      "userId": "03809949562924165279"
     },
     "user_tz": -60
    },
    "hidden": true,
    "id": "CwdrC0lfQvO3"
   },
   "outputs": [],
   "source": [
    "N_CLASSES = 43\n",
    "RESIZED_HIGHT = RESIZED_WIDTH = 50\n",
    "RESIZED_IMAGE = (RESIZED_HIGHT, RESIZED_WIDTH)"
   ]
  },
  {
   "cell_type": "code",
   "execution_count": 4,
   "metadata": {
    "code_folding": [],
    "executionInfo": {
     "elapsed": 1143,
     "status": "ok",
     "timestamp": 1614632899814,
     "user": {
      "displayName": "Thanh Nam NGUYEN",
      "photoUrl": "",
      "userId": "03809949562924165279"
     },
     "user_tz": -60
    },
    "hidden": true,
    "id": "VMSvbGC7GXuP"
   },
   "outputs": [],
   "source": [
    "def load_labels_from_one_directory(SOURCE):\n",
    "    csv_parten = os.path.join(SOURCE, '*.csv')\n",
    "    csv_file = glob.glob(csv_parten)[0]\n",
    "    df = pd.read_csv(csv_file, delimiter=\";\")\n",
    "    df.drop('Filename', axis = 1, inplace = True)\n",
    "    return df\n",
    "\n",
    "def load_image_file(img_path):\n",
    "    img = tf.keras.preprocessing.image.load_img(img_path, target_size= RESIZED_IMAGE)  \n",
    "    arr_img = tf.keras.preprocessing.image.img_to_array(img)\n",
    "    return arr_img\n",
    "\n",
    "def load_image_from_one_directory(SOURCE):\n",
    "    img_paths = glob.glob(SOURCE + '/*.ppm')\n",
    "    ordered_img_paths = sorted(img_paths)\n",
    "    return [load_image_file(img_path) for img_path in ordered_img_paths] \n",
    "\n",
    "def get_data(SOURCE):\n",
    "    list_label_df = []\n",
    "    images = []\n",
    "    for i in range(N_CLASSES):\n",
    "        CURRENT_DIR = format(i, '05d')\n",
    "        CURRENT_PATH = os.path.join(SOURCE, CURRENT_DIR)\n",
    "        list_label_df.append(load_labels_from_one_directory(CURRENT_PATH))\n",
    "        images.extend(load_image_from_one_directory(CURRENT_PATH))\n",
    "    labels = pd.concat(list_label_df, ignore_index=True)\n",
    "    return images, labels"
   ]
  },
  {
   "cell_type": "code",
   "execution_count": 5,
   "metadata": {
    "executionInfo": {
     "elapsed": 13456,
     "status": "ok",
     "timestamp": 1614632918035,
     "user": {
      "displayName": "Thanh Nam NGUYEN",
      "photoUrl": "",
      "userId": "03809949562924165279"
     },
     "user_tz": -60
    },
    "hidden": true,
    "id": "zzsWlIiAIu5J"
   },
   "outputs": [],
   "source": [
    "images, df = get_data(GTSRB_DATA_PATH)"
   ]
  },
  {
   "cell_type": "markdown",
   "metadata": {
    "id": "TICVE3CFYire"
   },
   "source": [
    "# Overview on Images and Labels"
   ]
  },
  {
   "cell_type": "markdown",
   "metadata": {
    "heading_collapsed": true,
    "id": "SKkY32M437Qr"
   },
   "source": [
    "## Images"
   ]
  },
  {
   "cell_type": "code",
   "execution_count": 42,
   "metadata": {
    "hidden": true
   },
   "outputs": [
    {
     "data": {
      "text/plain": [
       "<matplotlib.image.AxesImage at 0x1a3f8de910>"
      ]
     },
     "execution_count": 42,
     "metadata": {},
     "output_type": "execute_result"
    },
    {
     "data": {
      "image/png": "[encoded data removed]",
      "text/plain": [
       "<Figure size 432x288 with 1 Axes>"
      ]
     },
     "metadata": {
      "needs_background": "light"
     },
     "output_type": "display_data"
    }
   ],
   "source": [
    "from PIL import Image, ImageDraw\n",
    "\n",
    "img_pil = Image.open(GTSRB_DATA_PATH + \"/00000/00000_00000.ppm\")\n",
    "type(img_pil)\n",
    "plt.imshow(img_pil)"
   ]
  },
  {
   "cell_type": "code",
   "execution_count": 43,
   "metadata": {
    "hidden": true
   },
   "outputs": [],
   "source": [
    "img_pil2 = img_pil.copy()"
   ]
  },
  {
   "cell_type": "code",
   "execution_count": 44,
   "metadata": {
    "hidden": true
   },
   "outputs": [
    {
     "data": {
      "text/plain": [
       "<matplotlib.image.AxesImage at 0x1a3fa36650>"
      ]
     },
     "execution_count": 44,
     "metadata": {},
     "output_type": "execute_result"
    },
    {
     "data": {
      "image/png": "[encoded data removed]",
      "text/plain": [
       "<Figure size 432x288 with 1 Axes>"
      ]
     },
     "metadata": {
      "needs_background": "light"
     },
     "output_type": "display_data"
    }
   ],
   "source": [
    "plt.imshow(img_arr)"
   ]
  },
  {
   "cell_type": "code",
   "execution_count": 45,
   "metadata": {
    "hidden": true
   },
   "outputs": [
    {
     "data": {
      "text/plain": [
       "<matplotlib.image.AxesImage at 0x1a3fb10c10>"
      ]
     },
     "execution_count": 45,
     "metadata": {},
     "output_type": "execute_result"
    },
    {
     "data": {
      "image/png": "[encoded data removed]",
      "text/plain": [
       "<Figure size 432x288 with 1 Axes>"
      ]
     },
     "metadata": {
      "needs_background": "light"
     },
     "output_type": "display_data"
    }
   ],
   "source": [
    "draw = ImageDraw.Draw(img_pil)\n",
    "draw.rectangle([5, 6, 24, 25], outline=\"green\", width=1)\n",
    "plt.imshow(img_pil)"
   ]
  },
  {
   "cell_type": "code",
   "execution_count": null,
   "metadata": {
    "colab": {
     "base_uri": "https://localhost:8080/",
     "height": 793
    },
    "executionInfo": {
     "elapsed": 36338,
     "status": "ok",
     "timestamp": 1614474582354,
     "user": {
      "displayName": "Thanh Nam NGUYEN",
      "photoUrl": "",
      "userId": "03809949562924165279"
     },
     "user_tz": -60
    },
    "hidden": true,
    "id": "M4tzjXWT4CUp",
    "outputId": "22370690-564e-4b52-a207-5c8025ead5d1"
   },
   "outputs": [],
   "source": [
    "nrows = 4\n",
    "ncols = 5\n",
    "fig, ax = plt.subplots(nrows, ncols)\n",
    "#fig = plt.gcf()\n",
    "fig.set_size_inches(ncols*4, nrows*4)\n",
    "\n",
    "  \n",
    "\n",
    "for i in range(nrows):  # chọn vài folder bất kì\n",
    "    no_dir = random.choice(range(N_CLASSES))\n",
    "    dir_path = os.path.join(GTSRB_DATA_PATH, format(no_dir, '05d'))\n",
    "    for j in range(ncols):  # Chọn vài hình ảnh bất kì\n",
    "        img_path = random.choice(glob.glob(dir_path + \"/*.ppm\"))\n",
    "        img = mpimg.imread(img_path)\n",
    "        ax[i,j].imshow(img)\n",
    "\n",
    "plt.show()"
   ]
  },
  {
   "cell_type": "markdown",
   "metadata": {
    "heading_collapsed": true,
    "id": "wU5l7uO89qqh"
   },
   "source": [
    "## Labels "
   ]
  },
  {
   "cell_type": "code",
   "execution_count": null,
   "metadata": {
    "colab": {
     "base_uri": "https://localhost:8080/",
     "height": 181
    },
    "executionInfo": {
     "elapsed": 36561,
     "status": "error",
     "timestamp": 1614474582582,
     "user": {
      "displayName": "Thanh Nam NGUYEN",
      "photoUrl": "",
      "userId": "03809949562924165279"
     },
     "user_tz": -60
    },
    "hidden": true,
    "id": "vZspuOoiWc6c",
    "outputId": "713b7df0-6f70-4f27-b593-8663d985c1fa"
   },
   "outputs": [],
   "source": [
    "labels_df.Width.min(), labels_df.Width.max()"
   ]
  },
  {
   "cell_type": "code",
   "execution_count": null,
   "metadata": {
    "hidden": true,
    "id": "8wwP16KMW-Xu"
   },
   "outputs": [],
   "source": [
    "labels_df.Height.hist()"
   ]
  },
  {
   "cell_type": "code",
   "execution_count": null,
   "metadata": {
    "hidden": true,
    "id": "kuNtTfCQW4CX"
   },
   "outputs": [],
   "source": [
    "labels_df.Width.hist()"
   ]
  },
  {
   "cell_type": "code",
   "execution_count": null,
   "metadata": {
    "hidden": true,
    "id": "ivgrJ2rfVn-s"
   },
   "outputs": [],
   "source": [
    "len(images), labels_df.shape"
   ]
  },
  {
   "cell_type": "code",
   "execution_count": null,
   "metadata": {
    "hidden": true,
    "id": "TI5T3l2nVxRJ"
   },
   "outputs": [],
   "source": [
    "labels_df.info()"
   ]
  },
  {
   "cell_type": "code",
   "execution_count": null,
   "metadata": {
    "hidden": true,
    "id": "Zdm9I1OBeqvT"
   },
   "outputs": [],
   "source": [
    "labels_df.Width.values"
   ]
  },
  {
   "cell_type": "code",
   "execution_count": null,
   "metadata": {
    "hidden": true,
    "id": "VYXSujdZw-rR"
   },
   "outputs": [],
   "source": [
    "labels_df.head()"
   ]
  },
  {
   "cell_type": "code",
   "execution_count": null,
   "metadata": {
    "hidden": true,
    "id": "_YPcSVAsV-5B"
   },
   "outputs": [],
   "source": [
    "labels_df.groupby(['Width', 'Height'])['Roi.X1'].count()"
   ]
  },
  {
   "cell_type": "code",
   "execution_count": null,
   "metadata": {
    "hidden": true,
    "id": "Flkciw7zGOUV"
   },
   "outputs": [],
   "source": [
    "for i in range(len(boxes_train)):\n",
    "    boxes_train[i][0] = int(boxes_train[i][0] * RESIZED_WIDTH/sizes_train[i][0])\n",
    "    boxes_train[i][2] = int(boxes_train[i][2] * RESIZED_WIDTH/sizes_train[i][0])\n",
    "\n",
    "    boxes_train[i][1] = int(boxes_train[i][1] * RESIZED_HIGHT/sizes_train[i][1])\n",
    "    boxes_train[i][3] = int(boxes_train[i][3] * RESIZED_HIGHT/sizes_train[i][1])"
   ]
  },
  {
   "cell_type": "markdown",
   "metadata": {
    "heading_collapsed": true,
    "id": "UiaFSUAcOuuo"
   },
   "source": [
    "## Update boxes after resizing and drawing box"
   ]
  },
  {
   "cell_type": "code",
   "execution_count": null,
   "metadata": {
    "colab": {
     "base_uri": "https://localhost:8080/",
     "height": 204
    },
    "executionInfo": {
     "elapsed": 466,
     "status": "ok",
     "timestamp": 1614626479324,
     "user": {
      "displayName": "Thanh Nam NGUYEN",
      "photoUrl": "",
      "userId": "03809949562924165279"
     },
     "user_tz": -60
    },
    "hidden": true,
    "id": "jSC52d3JPKa-",
    "outputId": "6661ad4c-c689-4b70-d9ae-fc66002593d9"
   },
   "outputs": [],
   "source": [
    "df.head()"
   ]
  },
  {
   "cell_type": "code",
   "execution_count": null,
   "metadata": {
    "colab": {
     "base_uri": "https://localhost:8080/",
     "height": 297
    },
    "executionInfo": {
     "elapsed": 968,
     "status": "ok",
     "timestamp": 1614630181761,
     "user": {
      "displayName": "Thanh Nam NGUYEN",
      "photoUrl": "",
      "userId": "03809949562924165279"
     },
     "user_tz": -60
    },
    "hidden": true,
    "id": "M-TzaGi1dTy8",
    "outputId": "334dac13-1a57-4d51-8187-40b2d5805ac2"
   },
   "outputs": [],
   "source": [
    "df.describe()"
   ]
  },
  {
   "cell_type": "code",
   "execution_count": 47,
   "metadata": {
    "executionInfo": {
     "elapsed": 574,
     "status": "ok",
     "timestamp": 1614632934461,
     "user": {
      "displayName": "Thanh Nam NGUYEN",
      "photoUrl": "",
      "userId": "03809949562924165279"
     },
     "user_tz": -60
    },
    "hidden": true,
    "id": "jcadCxlEiuIx"
   },
   "outputs": [],
   "source": [
    "\n",
    "df['y_min'] = df['Roi.Y1'] /df.Height\n",
    "df['x_min'] =  df['Roi.X1'] /df.Width\n",
    "\n",
    "df['y_max'] = df['Roi.Y2'] /df.Height\n",
    "df['x_max'] =  df['Roi.X2'] /df.Width"
   ]
  },
  {
   "cell_type": "code",
   "execution_count": null,
   "metadata": {
    "colab": {
     "base_uri": "https://localhost:8080/",
     "height": 204
    },
    "executionInfo": {
     "elapsed": 554,
     "status": "ok",
     "timestamp": 1614631722067,
     "user": {
      "displayName": "Thanh Nam NGUYEN",
      "photoUrl": "",
      "userId": "03809949562924165279"
     },
     "user_tz": -60
    },
    "hidden": true,
    "id": "tfEpNz5AjMjx",
    "outputId": "bdf9598a-2f09-44b7-cb8a-1a58c175877d"
   },
   "outputs": [],
   "source": [
    "df.head()"
   ]
  },
  {
   "cell_type": "code",
   "execution_count": null,
   "metadata": {
    "colab": {
     "base_uri": "https://localhost:8080/"
    },
    "executionInfo": {
     "elapsed": 493,
     "status": "ok",
     "timestamp": 1614631875962,
     "user": {
      "displayName": "Thanh Nam NGUYEN",
      "photoUrl": "",
      "userId": "03809949562924165279"
     },
     "user_tz": -60
    },
    "hidden": true,
    "id": "EizlY0_heHNO",
    "outputId": "c8a430a2-fa30-482b-d3c8-e0a87894f399"
   },
   "outputs": [],
   "source": [
    "df.loc[28589]"
   ]
  },
  {
   "cell_type": "code",
   "execution_count": 48,
   "metadata": {
    "executionInfo": {
     "elapsed": 597,
     "status": "ok",
     "timestamp": 1614626666557,
     "user": {
      "displayName": "Thanh Nam NGUYEN",
      "photoUrl": "",
      "userId": "03809949562924165279"
     },
     "user_tz": -60
    },
    "hidden": true,
    "id": "MNxPYbTPO5Yx"
   },
   "outputs": [],
   "source": [
    "def update_box():\n",
    "    df['Roi.X1']  =  df['Roi.X1'] * RESIZED_WIDTH / df['Width']\n",
    "    df['Roi.X2']  =  df['Roi.X2'] * RESIZED_WIDTH / df['Width']\n",
    "    df['Roi.Y1']  =  df['Roi.Y1'] * RESIZED_HIGHT / df['Height']\n",
    "    df['Roi.X2']  =  df['Roi.Y2'] * RESIZED_HIGHT / df['Height']\n",
    "\n",
    "update_box()"
   ]
  },
  {
   "cell_type": "code",
   "execution_count": null,
   "metadata": {
    "colab": {
     "base_uri": "https://localhost:8080/",
     "height": 267
    },
    "executionInfo": {
     "elapsed": 601,
     "status": "ok",
     "timestamp": 1614632939742,
     "user": {
      "displayName": "Thanh Nam NGUYEN",
      "photoUrl": "",
      "userId": "03809949562924165279"
     },
     "user_tz": -60
    },
    "hidden": true,
    "id": "Y7iDznkpQBOf",
    "outputId": "97e87d18-fb74-4270-ffea-ee4b7663cd92"
   },
   "outputs": [],
   "source": [
    "\n",
    "plt.imshow(images[28589].astype('int'))\n",
    "plt.show()"
   ]
  },
  {
   "cell_type": "code",
   "execution_count": null,
   "metadata": {
    "colab": {
     "base_uri": "https://localhost:8080/"
    },
    "executionInfo": {
     "elapsed": 674,
     "status": "ok",
     "timestamp": 1614630991329,
     "user": {
      "displayName": "Thanh Nam NGUYEN",
      "photoUrl": "",
      "userId": "03809949562924165279"
     },
     "user_tz": -60
    },
    "hidden": true,
    "id": "_XfqxRSXf635",
    "outputId": "70f217f2-5aaa-4f6c-98d0-00f13137d92a"
   },
   "outputs": [],
   "source": [
    "import cv2\n",
    "df.loc[28589]"
   ]
  },
  {
   "cell_type": "code",
   "execution_count": 59,
   "metadata": {
    "executionInfo": {
     "elapsed": 656,
     "status": "ok",
     "timestamp": 1614632962279,
     "user": {
      "displayName": "Thanh Nam NGUYEN",
      "photoUrl": "",
      "userId": "03809949562924165279"
     },
     "user_tz": -60
    },
    "hidden": true,
    "id": "U50_2aPnQkTp"
   },
   "outputs": [],
   "source": [
    "def plot_image_with_box(img, box):\n",
    "    colors = np.array([[255,0,0]]) #red colors\n",
    "    img_arr = np.asarray(img)\n",
    "    img_arr = np.expand_dims(img_arr, axis =0)\n",
    "    \n",
    "    box = box.reshape([1, 1, 4])\n",
    "    \n",
    "    new_img = tf.image.draw_bounding_boxes(img_arr, box, colors)\n",
    "    plt.imshow(new_img[0]/255.0)\n",
    "    plt.show()"
   ]
  },
  {
   "cell_type": "code",
   "execution_count": 60,
   "metadata": {
    "hidden": true
   },
   "outputs": [],
   "source": [
    "box = df.loc[450][['y_min',\t'x_min', 'y_max', 'x_max']].values\n",
    "img = images[450]"
   ]
  },
  {
   "cell_type": "code",
   "execution_count": 61,
   "metadata": {
    "hidden": true
   },
   "outputs": [
    {
     "data": {
      "image/png": "[encoded data removed]",
      "text/plain": [
       "<Figure size 432x288 with 1 Axes>"
      ]
     },
     "metadata": {
      "needs_background": "light"
     },
     "output_type": "display_data"
    }
   ],
   "source": [
    "plot_image_with_box(img, box)"
   ]
  },
  {
   "cell_type": "code",
   "execution_count": null,
   "metadata": {
    "colab": {
     "base_uri": "https://localhost:8080/",
     "height": 284
    },
    "executionInfo": {
     "elapsed": 528,
     "status": "ok",
     "timestamp": 1614632965685,
     "user": {
      "displayName": "Thanh Nam NGUYEN",
      "photoUrl": "",
      "userId": "03809949562924165279"
     },
     "user_tz": -60
    },
    "hidden": true,
    "id": "yTYX6UByRzME",
    "outputId": "13ac9ac6-55bf-41ea-818d-c291113a9d25"
   },
   "outputs": [],
   "source": [
    "\n",
    "#colors = np.array([[1.0, 0.0, 0.0], [0.0, 0.0, 1.0]])\n",
    "colors = np.array([[255,0,0]])\n",
    "\n",
    "#28589\n",
    "box = df.loc[450][['y_min',\t'x_min', 'y_max', 'x_max']].values.astype('float32')\n",
    "boxes = box.reshape([1, 1, 4])\n",
    "\n",
    "img = np.expand_dims(images[450].astype('float32'), axis =0)\n",
    "\n",
    "\n",
    "\n",
    "\n"
   ]
  },
  {
   "cell_type": "markdown",
   "metadata": {},
   "source": [
    "## Code test"
   ]
  },
  {
   "cell_type": "code",
   "execution_count": null,
   "metadata": {},
   "outputs": [],
   "source": []
  },
  {
   "cell_type": "code",
   "execution_count": null,
   "metadata": {},
   "outputs": [],
   "source": []
  },
  {
   "cell_type": "code",
   "execution_count": null,
   "metadata": {},
   "outputs": [],
   "source": []
  },
  {
   "cell_type": "code",
   "execution_count": null,
   "metadata": {},
   "outputs": [],
   "source": []
  },
  {
   "cell_type": "markdown",
   "metadata": {
    "heading_collapsed": true,
    "id": "vh7aqFmY_MZD"
   },
   "source": [
    "# Prepare the train and test sets"
   ]
  },
  {
   "cell_type": "code",
   "execution_count": null,
   "metadata": {
    "hidden": true
   },
   "outputs": [],
   "source": []
  },
  {
   "cell_type": "code",
   "execution_count": null,
   "metadata": {
    "hidden": true,
    "id": "2bcKNL3DKiZc"
   },
   "outputs": [],
   "source": [
    "#Creat split data\n",
    "from sklearn.model_selection import train_test_split\n",
    "\n",
    "y = df.ClassId.values\n",
    "index_train, index_test, y_train, y_test = train_test_split(range(df.shape[0]), y, shuffle = True, stratify = y, \n",
    "                                                      train_size = 0.8, random_state = 42)\n",
    "X_train = [images[id] for id in index_train]\n",
    "X_test = [images[id] for id in index_test]\n",
    "\n",
    "boxes_train = df.loc[index_train, ['Roi.X1','Roi.Y1','Roi.X2','Roi.Y2']].values\n",
    "boxes_test = df.loc[index_test, ['Roi.X1','Roi.Y1','Roi.X2','Roi.Y2']].values"
   ]
  },
  {
   "cell_type": "code",
   "execution_count": null,
   "metadata": {
    "colab": {
     "base_uri": "https://localhost:8080/"
    },
    "executionInfo": {
     "elapsed": 893,
     "status": "ok",
     "timestamp": 1614476995286,
     "user": {
      "displayName": "Thanh Nam NGUYEN",
      "photoUrl": "",
      "userId": "03809949562924165279"
     },
     "user_tz": -60
    },
    "hidden": true,
    "id": "9imLEQcYUia-",
    "outputId": "d9f608ef-17db-4a29-c139-560a877e0603"
   },
   "outputs": [],
   "source": [
    "len(X_test), len(y_test), boxes_test.shape"
   ]
  },
  {
   "cell_type": "code",
   "execution_count": null,
   "metadata": {
    "hidden": true,
    "id": "vl-fAhZZ-tZM"
   },
   "outputs": [],
   "source": [
    "#Creat my dataset(TF)\n",
    "\n",
    "def my_func(a, b, c):\n",
    "    a = tf.cast(a, tf.float32)/255.0\n",
    "    b = tf.cast(b, tf.float32)\n",
    "    c = tf.cast(b, tf.float32)\n",
    "    return (a, (b, c))\n",
    "\n",
    "def creat_dataset(X, y, boxes, shuffle, batch_size): #, shuffle\n",
    "    ds = tf.data.Dataset.from_tensor_slices((X, y, boxes))\n",
    "    ds = ds.map(my_func, num_parallel_calls=tf.data.AUTOTUNE)\n",
    "    #dataset.map(time_consuming_mapping).cache().map(memory_consuming_mapping)\n",
    "    if shuffle:\n",
    "         shuffle_buffer = int(len(X)/10)\n",
    "         ds = ds.shuffle(shuffle_buffer)\n",
    "    ds = ds.repeat() # Mandatory for Keras for now\n",
    "    ds = ds.batch(batch_size, drop_remainder = True).prefetch(1) # -1 = tf.data.experimental.AUTOTUNE, drop_remainder=True for TPU\n",
    "    return ds"
   ]
  },
  {
   "cell_type": "code",
   "execution_count": null,
   "metadata": {
    "colab": {
     "base_uri": "https://localhost:8080/"
    },
    "executionInfo": {
     "elapsed": 491,
     "status": "ok",
     "timestamp": 1614476786333,
     "user": {
      "displayName": "Thanh Nam NGUYEN",
      "photoUrl": "",
      "userId": "03809949562924165279"
     },
     "user_tz": -60
    },
    "hidden": true,
    "id": "_nMPoUDiRrLM",
    "outputId": "6e6c2852-286d-46d0-f373-969ddd2e75a1"
   },
   "outputs": [],
   "source": [
    "import multiprocessing\n",
    "cores = multiprocessing.cpu_count()\n",
    "## num_parallel_calls= cores ##\n",
    "print(cores)"
   ]
  },
  {
   "cell_type": "code",
   "execution_count": null,
   "metadata": {
    "hidden": true,
    "id": "Ufk615GLO1Z3"
   },
   "outputs": [],
   "source": [
    "ds_train = creat_dataset(X_train, y_train, boxes_train, shuffle = True, batch_size= 64)\n",
    "ds_test = creat_dataset(X_test, y_test, boxes_test, shuffle = False, batch_size = 16) "
   ]
  },
  {
   "cell_type": "code",
   "execution_count": null,
   "metadata": {
    "colab": {
     "base_uri": "https://localhost:8080/"
    },
    "executionInfo": {
     "elapsed": 518,
     "status": "ok",
     "timestamp": 1614479383735,
     "user": {
      "displayName": "Thanh Nam NGUYEN",
      "photoUrl": "",
      "userId": "03809949562924165279"
     },
     "user_tz": -60
    },
    "hidden": true,
    "id": "KZ9H2_u_Vi1_",
    "outputId": "40c2da0c-82b4-411a-c84e-2d4a6d1192e5"
   },
   "outputs": [],
   "source": [
    "test_ds.element_spec"
   ]
  },
  {
   "cell_type": "markdown",
   "metadata": {
    "heading_collapsed": true,
    "id": "jEzmOY7zkZRQ"
   },
   "source": [
    "# 4. Model"
   ]
  },
  {
   "cell_type": "code",
   "execution_count": null,
   "metadata": {
    "hidden": true,
    "id": "jB8ZMlUQxnn9"
   },
   "outputs": [],
   "source": [
    "from tensorflow.keras.layers import Conv2D, MaxPooling2D, Dropout, Flatten, Dense\n",
    "from tensorflow.keras import Input \n",
    "from tensorflow.keras.models import Model\n",
    "from tensorflow.python.keras.utils.vis_utils import plot_model"
   ]
  },
  {
   "cell_type": "code",
   "execution_count": null,
   "metadata": {
    "hidden": true,
    "id": "LXgAlZv0xx7u"
   },
   "outputs": [],
   "source": [
    "def feature_extractor(inputs):\n",
    "    x = tf.keras.layers.Conv2D(16, (3,3), activation='relu')(inputs) # input_shape=(RESIZED_HIGHT, RESIZED_WIDTH, 3)\n",
    "    x = tf.keras.layers.AveragePooling2D((2, 2))(x)\n",
    "\n",
    "    #x = tf.keras.layers.Conv2D(32, kernel_size=3,activation='relu')(x)\n",
    "    #x = tf.keras.layers.AveragePooling2D((2, 2))(x)\n",
    "\n",
    "    #x = tf.keras.layers.Conv2D(64,kernel_size=3,activation='relu')(x)\n",
    "    #x = tf.keras.layers.AveragePooling2D((2, 2))(x)\n",
    "\n",
    "    return x\n",
    "\n",
    "def dense_layers(inputs):\n",
    "  x = tf.keras.layers.Flatten()(inputs)\n",
    "  x = tf.keras.layers.Dense(128, activation='relu')(x)\n",
    "  return x"
   ]
  },
  {
   "cell_type": "code",
   "execution_count": null,
   "metadata": {
    "hidden": true,
    "id": "fbrdBhOfywbz"
   },
   "outputs": [],
   "source": [
    "def classifier(inputs):\n",
    "\n",
    "  classification_output = tf.keras.layers.Dense(43, activation='softmax', name = 'classification')(inputs)\n",
    "  return classification_output\n",
    "\n",
    "\n",
    "def bounding_box_regression(inputs):\n",
    "    bounding_box_regression_output = tf.keras.layers.Dense(units = '4', name = 'bounding_box')(inputs)\n",
    "    return bounding_box_regression_output"
   ]
  },
  {
   "cell_type": "code",
   "execution_count": null,
   "metadata": {
    "hidden": true,
    "id": "dQojGM9WwsMd"
   },
   "outputs": [],
   "source": [
    "def final_model(inputs):\n",
    "    feature_cnn = feature_extractor(inputs)\n",
    "    dense_output = dense_layers(feature_cnn)\n",
    "\n",
    "    classification_output = classifier(dense_output)\n",
    "    bounding_box_output = bounding_box_regression(dense_output)\n",
    "\n",
    "    model = tf.keras.Model(inputs = inputs, outputs = [classification_output, bounding_box_output])\n",
    "\n",
    "    return model\n",
    "  \n",
    "\n",
    "inputs = tf.keras.layers.Input(shape=(RESIZED_HIGHT, RESIZED_WIDTH, 3))\n",
    "model = final_model(inputs)\n",
    "\n",
    "# print model layers\n",
    "#model.summary()\n",
    "plot_model(model, show_shapes=True, show_layer_names=True, to_file='base-model.png')\n"
   ]
  },
  {
   "cell_type": "code",
   "execution_count": null,
   "metadata": {
    "hidden": true,
    "id": "0Fz8tOKv55Tf"
   },
   "outputs": [],
   "source": [
    "def intersection_over_union(pred_box, true_box):\n",
    "    xmin_pred, ymin_pred, xmax_pred, ymax_pred =  tf.split(pred_box, 4, axis = 1)\n",
    "    xmin_true, ymin_true, xmax_true, ymax_true = tf.split(true_box, 4, axis = 1)\n",
    "\n",
    "\n",
    "    xmin_overlap = tf.math.maximum(xmin_pred, xmin_true)\n",
    "    xmax_overlap = tf.math.minimum(xmax_pred, xmax_true)\n",
    "    ymin_overlap = tf.math.maximum(xmin_pred, xmin_true)\n",
    "    ymax_overlap = tf.math.minimum(ymax_pred, ymax_true)\n",
    "\n",
    "    pred_box_area = (xmax_pred - xmin_pred ) * (ymax_pred - ymin_pred )\n",
    "    true_box_area = (xmax_true - xmin_true) * (ymax_true - ymin_true)\n",
    "\n",
    "    overlap_area = tf.math.maximum((xmax_overlap - xmin_overlap), 0)  * tf.math.maximum((ymax_overlap - ymin_overlap), 0)\n",
    "    union_area = (pred_box_area + true_box_area) - overlap_area\n",
    "\n",
    "    iou = overlap_area / union_area\n",
    "\n",
    "    return iou"
   ]
  },
  {
   "cell_type": "code",
   "execution_count": null,
   "metadata": {
    "hidden": true,
    "id": "uIxwYwBA6NPl"
   },
   "outputs": [],
   "source": [
    "model.compile(optimizer='adam', \n",
    "              loss = {'classification' : 'sparse_categorical_crossentropy',\n",
    "                      'bounding_box' : 'mse'\n",
    "                     },\n",
    "              metrics = {'classification' : 'accuracy',\n",
    "                         'bounding_box' : intersection_over_union\n",
    "                        })"
   ]
  },
  {
   "cell_type": "markdown",
   "metadata": {
    "heading_collapsed": true,
    "id": "t-ZnOUZ21qi1"
   },
   "source": [
    "# 50. FIT TRAIN"
   ]
  },
  {
   "cell_type": "code",
   "execution_count": null,
   "metadata": {
    "colab": {
     "base_uri": "https://localhost:8080/"
    },
    "executionInfo": {
     "elapsed": 521,
     "status": "ok",
     "timestamp": 1614479267012,
     "user": {
      "displayName": "Thanh Nam NGUYEN",
      "photoUrl": "",
      "userId": "03809949562924165279"
     },
     "user_tz": -60
    },
    "hidden": true,
    "id": "r0LRvbi8bO7T",
    "outputId": "49ab1249-bc6d-4cce-c54d-a2638d212544"
   },
   "outputs": [],
   "source": [
    "len(y_train)"
   ]
  },
  {
   "cell_type": "code",
   "execution_count": null,
   "metadata": {
    "colab": {
     "base_uri": "https://localhost:8080/",
     "height": 353
    },
    "executionInfo": {
     "elapsed": 503,
     "status": "error",
     "timestamp": 1614479231506,
     "user": {
      "displayName": "Thanh Nam NGUYEN",
      "photoUrl": "",
      "userId": "03809949562924165279"
     },
     "user_tz": -60
    },
    "hidden": true,
    "id": "Qv24e9t9bzwK",
    "outputId": "445ea120-2d1f-4c0f-afaa-6350a843b631"
   },
   "outputs": [],
   "source": [
    "model.fit(ds_train)"
   ]
  },
  {
   "cell_type": "code",
   "execution_count": null,
   "metadata": {
    "colab": {
     "base_uri": "https://localhost:8080/",
     "height": 403
    },
    "executionInfo": {
     "elapsed": 668,
     "status": "error",
     "timestamp": 1614479307908,
     "user": {
      "displayName": "Thanh Nam NGUYEN",
      "photoUrl": "",
      "userId": "03809949562924165279"
     },
     "user_tz": -60
    },
    "hidden": true,
    "id": "nQSuEvyOAFxU",
    "outputId": "fec54d2f-5012-490d-ab3c-b480082cecc1"
   },
   "outputs": [],
   "source": [
    "EPOCHS = 20 # 45\n",
    "steps_per_epoch = len(y_train)//64  \n",
    "validation_steps = len(y_test)//16\n",
    "\n",
    "#model.fit()\n",
    "history = model.fit(train_ds, epochs=EPOCHS,\n",
    "                    steps_per_epoch=steps_per_epoch\n",
    "                    #validation_data=test_ds, \n",
    "                    #validation_steps=validation_steps\n",
    "                    )"
   ]
  },
  {
   "cell_type": "code",
   "execution_count": null,
   "metadata": {
    "hidden": true,
    "id": "pZQ5CQ-OW2Pp"
   },
   "outputs": [],
   "source": []
  },
  {
   "cell_type": "code",
   "execution_count": null,
   "metadata": {
    "hidden": true,
    "id": "8ws7LyJy9ay1"
   },
   "outputs": [],
   "source": []
  },
  {
   "cell_type": "code",
   "execution_count": null,
   "metadata": {
    "hidden": true,
    "id": "UpYVG34i9dPq"
   },
   "outputs": [],
   "source": []
  },
  {
   "cell_type": "code",
   "execution_count": null,
   "metadata": {
    "hidden": true,
    "id": "B24lmlGyVdXw"
   },
   "outputs": [],
   "source": []
  }
 ],
 "metadata": {
  "accelerator": "GPU",
  "colab": {
   "collapsed_sections": [
    "SKkY32M437Qr",
    "wU5l7uO89qqh",
    "jEzmOY7zkZRQ"
   ],
   "name": "GTSRB-2-df-FULL.ipynb",
   "provenance": []
  },
  "kernelspec": {
   "display_name": "Python 3",
   "language": "python",
   "name": "python3"
  },
  "language_info": {
   "codemirror_mode": {
    "name": "ipython",
    "version": 3
   },
   "file_extension": ".py",
   "mimetype": "text/x-python",
   "name": "python",
   "nbconvert_exporter": "python",
   "pygments_lexer": "ipython3",
   "version": "3.7.7"
  },
  "toc": {
   "base_numbering": 1,
   "nav_menu": {},
   "number_sections": true,
   "sideBar": true,
   "skip_h1_title": false,
   "title_cell": "Table of Contents",
   "title_sidebar": "Contents",
   "toc_cell": false,
   "toc_position": {},
   "toc_section_display": true,
   "toc_window_display": true
  }
 },
 "nbformat": 4,
 "nbformat_minor": 1
}
